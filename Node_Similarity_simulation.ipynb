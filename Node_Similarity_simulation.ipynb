{
  "nbformat": 4,
  "nbformat_minor": 0,
  "metadata": {
    "colab": {
      "provenance": []
    },
    "kernelspec": {
      "name": "python3",
      "display_name": "Python 3"
    },
    "language_info": {
      "name": "python"
    }
  },
  "cells": [
    {
      "cell_type": "code",
      "source": [
        "#run this to install dependencies\n",
        "!pip install netrd\n",
        "!pip install torch_geometric"
      ],
      "metadata": {
        "id": "s2SQ61XVf0U6",
        "colab": {
          "base_uri": "https://localhost:8080/",
          "height": 1000
        },
        "outputId": "5ff8efb3-9781-4e36-c669-b8e2280b3585"
      },
      "execution_count": 1,
      "outputs": [
        {
          "output_type": "stream",
          "name": "stdout",
          "text": [
            "Collecting netrd\n",
            "  Downloading netrd-0.3.0-py3-none-any.whl (105 kB)\n",
            "\u001b[2K     \u001b[90m━━━━━━━━━━━━━━━━━━━━━━━━━━━━━━━━━━━━━━━\u001b[0m \u001b[32m105.7/105.7 kB\u001b[0m \u001b[31m1.9 MB/s\u001b[0m eta \u001b[36m0:00:00\u001b[0m\n",
            "\u001b[?25hRequirement already satisfied: networkx>=2.2.0 in /usr/local/lib/python3.10/dist-packages (from netrd) (3.1)\n",
            "Requirement already satisfied: numpy>=1.16.0 in /usr/local/lib/python3.10/dist-packages (from netrd) (1.23.5)\n",
            "Requirement already satisfied: scipy>=1.0.0 in /usr/local/lib/python3.10/dist-packages (from netrd) (1.11.2)\n",
            "Requirement already satisfied: scikit-learn>=0.18.2 in /usr/local/lib/python3.10/dist-packages (from netrd) (1.2.2)\n",
            "Collecting numpydoc>=0.9 (from netrd)\n",
            "  Downloading numpydoc-1.5.0-py3-none-any.whl (52 kB)\n",
            "\u001b[2K     \u001b[90m━━━━━━━━━━━━━━━━━━━━━━━━━━━━━━━━━━━━━━━━\u001b[0m \u001b[32m52.4/52.4 kB\u001b[0m \u001b[31m6.1 MB/s\u001b[0m eta \u001b[36m0:00:00\u001b[0m\n",
            "\u001b[?25hCollecting ortools>=6.7 (from netrd)\n",
            "  Downloading ortools-9.7.2996-cp310-cp310-manylinux_2_17_x86_64.manylinux2014_x86_64.whl (21.1 MB)\n",
            "\u001b[2K     \u001b[90m━━━━━━━━━━━━━━━━━━━━━━━━━━━━━━━━━━━━━━━━\u001b[0m \u001b[32m21.1/21.1 MB\u001b[0m \u001b[31m35.2 MB/s\u001b[0m eta \u001b[36m0:00:00\u001b[0m\n",
            "\u001b[?25hCollecting sphinx-rtd-theme>=0.4 (from netrd)\n",
            "  Downloading sphinx_rtd_theme-1.3.0-py2.py3-none-any.whl (2.8 MB)\n",
            "\u001b[2K     \u001b[90m━━━━━━━━━━━━━━━━━━━━━━━━━━━━━━━━━━━━━━━━\u001b[0m \u001b[32m2.8/2.8 MB\u001b[0m \u001b[31m63.7 MB/s\u001b[0m eta \u001b[36m0:00:00\u001b[0m\n",
            "\u001b[?25hCollecting Sphinx==2.0.1 (from netrd)\n",
            "  Downloading Sphinx-2.0.1-py2.py3-none-any.whl (3.2 MB)\n",
            "\u001b[2K     \u001b[90m━━━━━━━━━━━━━━━━━━━━━━━━━━━━━━━━━━━━━━━━\u001b[0m \u001b[32m3.2/3.2 MB\u001b[0m \u001b[31m72.0 MB/s\u001b[0m eta \u001b[36m0:00:00\u001b[0m\n",
            "\u001b[?25hRequirement already satisfied: sphinxcontrib-applehelp in /usr/local/lib/python3.10/dist-packages (from Sphinx==2.0.1->netrd) (1.0.7)\n",
            "Requirement already satisfied: sphinxcontrib-devhelp in /usr/local/lib/python3.10/dist-packages (from Sphinx==2.0.1->netrd) (1.0.5)\n",
            "Requirement already satisfied: sphinxcontrib-jsmath in /usr/local/lib/python3.10/dist-packages (from Sphinx==2.0.1->netrd) (1.0.1)\n",
            "Requirement already satisfied: sphinxcontrib-htmlhelp in /usr/local/lib/python3.10/dist-packages (from Sphinx==2.0.1->netrd) (2.0.4)\n",
            "Requirement already satisfied: sphinxcontrib-serializinghtml in /usr/local/lib/python3.10/dist-packages (from Sphinx==2.0.1->netrd) (1.1.9)\n",
            "Requirement already satisfied: sphinxcontrib-qthelp in /usr/local/lib/python3.10/dist-packages (from Sphinx==2.0.1->netrd) (1.0.6)\n",
            "Requirement already satisfied: Jinja2>=2.3 in /usr/local/lib/python3.10/dist-packages (from Sphinx==2.0.1->netrd) (3.1.2)\n",
            "Requirement already satisfied: Pygments>=2.0 in /usr/local/lib/python3.10/dist-packages (from Sphinx==2.0.1->netrd) (2.16.1)\n",
            "Requirement already satisfied: docutils>=0.12 in /usr/local/lib/python3.10/dist-packages (from Sphinx==2.0.1->netrd) (0.18.1)\n",
            "Requirement already satisfied: snowballstemmer>=1.1 in /usr/local/lib/python3.10/dist-packages (from Sphinx==2.0.1->netrd) (2.2.0)\n",
            "Requirement already satisfied: babel!=2.0,>=1.3 in /usr/local/lib/python3.10/dist-packages (from Sphinx==2.0.1->netrd) (2.12.1)\n",
            "Requirement already satisfied: alabaster<0.8,>=0.7 in /usr/local/lib/python3.10/dist-packages (from Sphinx==2.0.1->netrd) (0.7.13)\n",
            "Requirement already satisfied: imagesize in /usr/local/lib/python3.10/dist-packages (from Sphinx==2.0.1->netrd) (1.4.1)\n",
            "Requirement already satisfied: requests>=2.5.0 in /usr/local/lib/python3.10/dist-packages (from Sphinx==2.0.1->netrd) (2.31.0)\n",
            "Requirement already satisfied: setuptools in /usr/local/lib/python3.10/dist-packages (from Sphinx==2.0.1->netrd) (67.7.2)\n",
            "Requirement already satisfied: packaging in /usr/local/lib/python3.10/dist-packages (from Sphinx==2.0.1->netrd) (23.1)\n",
            "INFO: pip is looking at multiple versions of numpydoc to determine which version is compatible with other requirements. This could take a while.\n",
            "Collecting numpydoc>=0.9 (from netrd)\n",
            "  Downloading numpydoc-1.4.0-py3-none-any.whl (51 kB)\n",
            "\u001b[2K     \u001b[90m━━━━━━━━━━━━━━━━━━━━━━━━━━━━━━━━━━━━━━━━\u001b[0m \u001b[32m51.9/51.9 kB\u001b[0m \u001b[31m6.0 MB/s\u001b[0m eta \u001b[36m0:00:00\u001b[0m\n",
            "\u001b[?25h  Downloading numpydoc-1.3.1-py3-none-any.whl (51 kB)\n",
            "\u001b[2K     \u001b[90m━━━━━━━━━━━━━━━━━━━━━━━━━━━━━━━━━━━━━━━━\u001b[0m \u001b[32m51.7/51.7 kB\u001b[0m \u001b[31m5.8 MB/s\u001b[0m eta \u001b[36m0:00:00\u001b[0m\n",
            "\u001b[?25h  Downloading numpydoc-1.3-py3-none-any.whl (51 kB)\n",
            "\u001b[2K     \u001b[90m━━━━━━━━━━━━━━━━━━━━━━━━━━━━━━━━━━━━━━━━\u001b[0m \u001b[32m51.7/51.7 kB\u001b[0m \u001b[31m6.5 MB/s\u001b[0m eta \u001b[36m0:00:00\u001b[0m\n",
            "\u001b[?25h  Downloading numpydoc-1.2.1-py3-none-any.whl (51 kB)\n",
            "\u001b[2K     \u001b[90m━━━━━━━━━━━━━━━━━━━━━━━━━━━━━━━━━━━━━━━━\u001b[0m \u001b[32m51.4/51.4 kB\u001b[0m \u001b[31m5.9 MB/s\u001b[0m eta \u001b[36m0:00:00\u001b[0m\n",
            "\u001b[?25hCollecting Jinja2>=2.3 (from Sphinx==2.0.1->netrd)\n",
            "  Downloading Jinja2-3.0.3-py3-none-any.whl (133 kB)\n",
            "\u001b[2K     \u001b[90m━━━━━━━━━━━━━━━━━━━━━━━━━━━━━━━━━━━━━━\u001b[0m \u001b[32m133.6/133.6 kB\u001b[0m \u001b[31m17.1 MB/s\u001b[0m eta \u001b[36m0:00:00\u001b[0m\n",
            "\u001b[?25hRequirement already satisfied: absl-py>=0.13 in /usr/local/lib/python3.10/dist-packages (from ortools>=6.7->netrd) (1.4.0)\n",
            "Collecting protobuf>=4.23.3 (from ortools>=6.7->netrd)\n",
            "  Downloading protobuf-4.24.3-cp37-abi3-manylinux2014_x86_64.whl (311 kB)\n",
            "\u001b[2K     \u001b[90m━━━━━━━━━━━━━━━━━━━━━━━━━━━━━━━━━━━━━━\u001b[0m \u001b[32m311.6/311.6 kB\u001b[0m \u001b[31m30.3 MB/s\u001b[0m eta \u001b[36m0:00:00\u001b[0m\n",
            "\u001b[?25hRequirement already satisfied: joblib>=1.1.1 in /usr/local/lib/python3.10/dist-packages (from scikit-learn>=0.18.2->netrd) (1.3.2)\n",
            "Requirement already satisfied: threadpoolctl>=2.0.0 in /usr/local/lib/python3.10/dist-packages (from scikit-learn>=0.18.2->netrd) (3.2.0)\n",
            "Collecting sphinxcontrib-jquery<5,>=4 (from sphinx-rtd-theme>=0.4->netrd)\n",
            "  Downloading sphinxcontrib_jquery-4.1-py2.py3-none-any.whl (121 kB)\n",
            "\u001b[2K     \u001b[90m━━━━━━━━━━━━━━━━━━━━━━━━━━━━━━━━━━━━━━\u001b[0m \u001b[32m121.1/121.1 kB\u001b[0m \u001b[31m15.1 MB/s\u001b[0m eta \u001b[36m0:00:00\u001b[0m\n",
            "\u001b[?25hRequirement already satisfied: MarkupSafe>=2.0 in /usr/local/lib/python3.10/dist-packages (from Jinja2>=2.3->Sphinx==2.0.1->netrd) (2.1.3)\n",
            "Requirement already satisfied: charset-normalizer<4,>=2 in /usr/local/lib/python3.10/dist-packages (from requests>=2.5.0->Sphinx==2.0.1->netrd) (3.2.0)\n",
            "Requirement already satisfied: idna<4,>=2.5 in /usr/local/lib/python3.10/dist-packages (from requests>=2.5.0->Sphinx==2.0.1->netrd) (3.4)\n",
            "Requirement already satisfied: urllib3<3,>=1.21.1 in /usr/local/lib/python3.10/dist-packages (from requests>=2.5.0->Sphinx==2.0.1->netrd) (2.0.4)\n",
            "Requirement already satisfied: certifi>=2017.4.17 in /usr/local/lib/python3.10/dist-packages (from requests>=2.5.0->Sphinx==2.0.1->netrd) (2023.7.22)\n",
            "INFO: pip is looking at multiple versions of sphinxcontrib-applehelp to determine which version is compatible with other requirements. This could take a while.\n",
            "Collecting sphinxcontrib-applehelp (from Sphinx==2.0.1->netrd)\n",
            "  Downloading sphinxcontrib_applehelp-1.0.6-py3-none-any.whl (120 kB)\n",
            "\u001b[2K     \u001b[90m━━━━━━━━━━━━━━━━━━━━━━━━━━━━━━━━━━━━━━\u001b[0m \u001b[32m120.0/120.0 kB\u001b[0m \u001b[31m14.7 MB/s\u001b[0m eta \u001b[36m0:00:00\u001b[0m\n",
            "\u001b[?25h  Downloading sphinxcontrib_applehelp-1.0.5-py3-none-any.whl (120 kB)\n",
            "\u001b[2K     \u001b[90m━━━━━━━━━━━━━━━━━━━━━━━━━━━━━━━━━━━━━━\u001b[0m \u001b[32m120.0/120.0 kB\u001b[0m \u001b[31m13.8 MB/s\u001b[0m eta \u001b[36m0:00:00\u001b[0m\n",
            "\u001b[?25h  Downloading sphinxcontrib_applehelp-1.0.4-py3-none-any.whl (120 kB)\n",
            "\u001b[2K     \u001b[90m━━━━━━━━━━━━━━━━━━━━━━━━━━━━━━━━━━━━━━\u001b[0m \u001b[32m120.6/120.6 kB\u001b[0m \u001b[31m12.7 MB/s\u001b[0m eta \u001b[36m0:00:00\u001b[0m\n",
            "\u001b[?25hINFO: pip is looking at multiple versions of sphinxcontrib-devhelp to determine which version is compatible with other requirements. This could take a while.\n",
            "Collecting sphinxcontrib-devhelp (from Sphinx==2.0.1->netrd)\n",
            "  Downloading sphinxcontrib_devhelp-1.0.4-py3-none-any.whl (83 kB)\n",
            "\u001b[2K     \u001b[90m━━━━━━━━━━━━━━━━━━━━━━━━━━━━━━━━━━━━━━━━\u001b[0m \u001b[32m83.5/83.5 kB\u001b[0m \u001b[31m9.8 MB/s\u001b[0m eta \u001b[36m0:00:00\u001b[0m\n",
            "\u001b[?25h  Downloading sphinxcontrib_devhelp-1.0.3-py3-none-any.whl (83 kB)\n",
            "\u001b[2K     \u001b[90m━━━━━━━━━━━━━━━━━━━━━━━━━━━━━━━━━━━━━━━━\u001b[0m \u001b[32m83.5/83.5 kB\u001b[0m \u001b[31m8.8 MB/s\u001b[0m eta \u001b[36m0:00:00\u001b[0m\n",
            "\u001b[?25h  Downloading sphinxcontrib_devhelp-1.0.2-py2.py3-none-any.whl (84 kB)\n",
            "\u001b[2K     \u001b[90m━━━━━━━━━━━━━━━━━━━━━━━━━━━━━━━━━━━━━━━━\u001b[0m \u001b[32m84.7/84.7 kB\u001b[0m \u001b[31m10.5 MB/s\u001b[0m eta \u001b[36m0:00:00\u001b[0m\n",
            "\u001b[?25hINFO: pip is looking at multiple versions of sphinxcontrib-htmlhelp to determine which version is compatible with other requirements. This could take a while.\n",
            "Collecting sphinxcontrib-htmlhelp (from Sphinx==2.0.1->netrd)\n",
            "  Downloading sphinxcontrib_htmlhelp-2.0.3-py3-none-any.whl (99 kB)\n",
            "\u001b[2K     \u001b[90m━━━━━━━━━━━━━━━━━━━━━━━━━━━━━━━━━━━━━━━━\u001b[0m \u001b[32m99.2/99.2 kB\u001b[0m \u001b[31m11.3 MB/s\u001b[0m eta \u001b[36m0:00:00\u001b[0m\n",
            "\u001b[?25h  Downloading sphinxcontrib_htmlhelp-2.0.2-py3-none-any.whl (99 kB)\n",
            "\u001b[2K     \u001b[90m━━━━━━━━━━━━━━━━━━━━━━━━━━━━━━━━━━━━━━━━\u001b[0m \u001b[32m99.2/99.2 kB\u001b[0m \u001b[31m11.6 MB/s\u001b[0m eta \u001b[36m0:00:00\u001b[0m\n",
            "\u001b[?25h  Downloading sphinxcontrib_htmlhelp-2.0.1-py3-none-any.whl (99 kB)\n",
            "\u001b[2K     \u001b[90m━━━━━━━━━━━━━━━━━━━━━━━━━━━━━━━━━━━━━━━━\u001b[0m \u001b[32m99.8/99.8 kB\u001b[0m \u001b[31m9.4 MB/s\u001b[0m eta \u001b[36m0:00:00\u001b[0m\n",
            "\u001b[?25hINFO: pip is looking at multiple versions of sphinxcontrib-qthelp to determine which version is compatible with other requirements. This could take a while.\n",
            "Collecting sphinxcontrib-qthelp (from Sphinx==2.0.1->netrd)\n",
            "  Downloading sphinxcontrib_qthelp-1.0.5-py3-none-any.whl (89 kB)\n",
            "\u001b[2K     \u001b[90m━━━━━━━━━━━━━━━━━━━━━━━━━━━━━━━━━━━━━━━━\u001b[0m \u001b[32m89.4/89.4 kB\u001b[0m \u001b[31m9.8 MB/s\u001b[0m eta \u001b[36m0:00:00\u001b[0m\n",
            "\u001b[?25h  Downloading sphinxcontrib_qthelp-1.0.4-py3-none-any.whl (89 kB)\n",
            "\u001b[2K     \u001b[90m━━━━━━━━━━━━━━━━━━━━━━━━━━━━━━━━━━━━━━━━\u001b[0m \u001b[32m89.4/89.4 kB\u001b[0m \u001b[31m10.9 MB/s\u001b[0m eta \u001b[36m0:00:00\u001b[0m\n",
            "\u001b[?25h  Downloading sphinxcontrib_qthelp-1.0.3-py2.py3-none-any.whl (90 kB)\n",
            "\u001b[2K     \u001b[90m━━━━━━━━━━━━━━━━━━━━━━━━━━━━━━━━━━━━━━━━\u001b[0m \u001b[32m90.6/90.6 kB\u001b[0m \u001b[31m10.9 MB/s\u001b[0m eta \u001b[36m0:00:00\u001b[0m\n",
            "\u001b[?25hINFO: pip is looking at multiple versions of sphinxcontrib-serializinghtml to determine which version is compatible with other requirements. This could take a while.\n",
            "Collecting sphinxcontrib-serializinghtml (from Sphinx==2.0.1->netrd)\n",
            "  Downloading sphinxcontrib_serializinghtml-1.1.8-py3-none-any.whl (92 kB)\n",
            "\u001b[2K     \u001b[90m━━━━━━━━━━━━━━━━━━━━━━━━━━━━━━━━━━━━━━━━\u001b[0m \u001b[32m92.6/92.6 kB\u001b[0m \u001b[31m10.1 MB/s\u001b[0m eta \u001b[36m0:00:00\u001b[0m\n",
            "\u001b[?25h  Downloading sphinxcontrib_serializinghtml-1.1.7-py3-none-any.whl (92 kB)\n",
            "\u001b[2K     \u001b[90m━━━━━━━━━━━━━━━━━━━━━━━━━━━━━━━━━━━━━━━━\u001b[0m \u001b[32m92.6/92.6 kB\u001b[0m \u001b[31m10.4 MB/s\u001b[0m eta \u001b[36m0:00:00\u001b[0m\n",
            "\u001b[?25h  Downloading sphinxcontrib_serializinghtml-1.1.6-py3-none-any.whl (92 kB)\n",
            "\u001b[2K     \u001b[90m━━━━━━━━━━━━━━━━━━━━━━━━━━━━━━━━━━━━━━━━\u001b[0m \u001b[32m92.6/92.6 kB\u001b[0m \u001b[31m11.0 MB/s\u001b[0m eta \u001b[36m0:00:00\u001b[0m\n",
            "\u001b[?25h  Downloading sphinxcontrib_serializinghtml-1.1.5-py2.py3-none-any.whl (94 kB)\n",
            "\u001b[2K     \u001b[90m━━━━━━━━━━━━━━━━━━━━━━━━━━━━━━━━━━━━━━━━\u001b[0m \u001b[32m94.0/94.0 kB\u001b[0m \u001b[31m10.2 MB/s\u001b[0m eta \u001b[36m0:00:00\u001b[0m\n",
            "\u001b[?25hInstalling collected packages: sphinxcontrib-serializinghtml, sphinxcontrib-qthelp, sphinxcontrib-htmlhelp, sphinxcontrib-devhelp, sphinxcontrib-applehelp, protobuf, Jinja2, Sphinx, ortools, sphinxcontrib-jquery, numpydoc, sphinx-rtd-theme, netrd\n",
            "  Attempting uninstall: sphinxcontrib-serializinghtml\n",
            "    Found existing installation: sphinxcontrib-serializinghtml 1.1.9\n",
            "    Uninstalling sphinxcontrib-serializinghtml-1.1.9:\n",
            "      Successfully uninstalled sphinxcontrib-serializinghtml-1.1.9\n",
            "  Attempting uninstall: sphinxcontrib-qthelp\n",
            "    Found existing installation: sphinxcontrib-qthelp 1.0.6\n",
            "    Uninstalling sphinxcontrib-qthelp-1.0.6:\n",
            "      Successfully uninstalled sphinxcontrib-qthelp-1.0.6\n",
            "  Attempting uninstall: sphinxcontrib-htmlhelp\n",
            "    Found existing installation: sphinxcontrib-htmlhelp 2.0.4\n",
            "    Uninstalling sphinxcontrib-htmlhelp-2.0.4:\n",
            "      Successfully uninstalled sphinxcontrib-htmlhelp-2.0.4\n",
            "  Attempting uninstall: sphinxcontrib-devhelp\n",
            "    Found existing installation: sphinxcontrib-devhelp 1.0.5\n",
            "    Uninstalling sphinxcontrib-devhelp-1.0.5:\n",
            "      Successfully uninstalled sphinxcontrib-devhelp-1.0.5\n",
            "  Attempting uninstall: sphinxcontrib-applehelp\n",
            "    Found existing installation: sphinxcontrib-applehelp 1.0.7\n",
            "    Uninstalling sphinxcontrib-applehelp-1.0.7:\n",
            "      Successfully uninstalled sphinxcontrib-applehelp-1.0.7\n",
            "  Attempting uninstall: protobuf\n",
            "    Found existing installation: protobuf 3.20.3\n",
            "    Uninstalling protobuf-3.20.3:\n",
            "      Successfully uninstalled protobuf-3.20.3\n",
            "  Attempting uninstall: Jinja2\n",
            "    Found existing installation: Jinja2 3.1.2\n",
            "    Uninstalling Jinja2-3.1.2:\n",
            "      Successfully uninstalled Jinja2-3.1.2\n",
            "  Attempting uninstall: Sphinx\n",
            "    Found existing installation: Sphinx 5.0.2\n",
            "    Uninstalling Sphinx-5.0.2:\n",
            "      Successfully uninstalled Sphinx-5.0.2\n",
            "\u001b[31mERROR: pip's dependency resolver does not currently take into account all the packages that are installed. This behaviour is the source of the following dependency conflicts.\n",
            "tensorflow-metadata 1.14.0 requires protobuf<4.21,>=3.20.3, but you have protobuf 4.24.3 which is incompatible.\u001b[0m\u001b[31m\n",
            "\u001b[0mSuccessfully installed Jinja2-3.0.3 Sphinx-2.0.1 netrd-0.3.0 numpydoc-1.2.1 ortools-9.7.2996 protobuf-4.24.3 sphinx-rtd-theme-1.3.0 sphinxcontrib-applehelp-1.0.4 sphinxcontrib-devhelp-1.0.2 sphinxcontrib-htmlhelp-2.0.1 sphinxcontrib-jquery-4.1 sphinxcontrib-qthelp-1.0.3 sphinxcontrib-serializinghtml-1.1.5\n"
          ]
        },
        {
          "output_type": "display_data",
          "data": {
            "application/vnd.colab-display-data+json": {
              "pip_warning": {
                "packages": [
                  "sphinxcontrib"
                ]
              }
            }
          },
          "metadata": {}
        },
        {
          "output_type": "stream",
          "name": "stdout",
          "text": [
            "Collecting torch_geometric\n",
            "  Downloading torch_geometric-2.3.1.tar.gz (661 kB)\n",
            "\u001b[?25l     \u001b[90m━━━━━━━━━━━━━━━━━━━━━━━━━━━━━━━━━━━━━━━━\u001b[0m \u001b[32m0.0/661.6 kB\u001b[0m \u001b[31m?\u001b[0m eta \u001b[36m-:--:--\u001b[0m\r\u001b[2K     \u001b[91m━━━━━━━━━\u001b[0m\u001b[90m╺\u001b[0m\u001b[90m━━━━━━━━━━━━━━━━━━━━━━━━━━━━━\u001b[0m \u001b[32m153.6/661.6 kB\u001b[0m \u001b[31m4.5 MB/s\u001b[0m eta \u001b[36m0:00:01\u001b[0m\r\u001b[2K     \u001b[90m━━━━━━━━━━━━━━━━━━━━━━━━━━━━━━━━━━━━━━\u001b[0m \u001b[32m661.6/661.6 kB\u001b[0m \u001b[31m10.5 MB/s\u001b[0m eta \u001b[36m0:00:00\u001b[0m\n",
            "\u001b[?25h  Installing build dependencies ... \u001b[?25l\u001b[?25hdone\n",
            "  Getting requirements to build wheel ... \u001b[?25l\u001b[?25hdone\n",
            "  Preparing metadata (pyproject.toml) ... \u001b[?25l\u001b[?25hdone\n",
            "Requirement already satisfied: tqdm in /usr/local/lib/python3.10/dist-packages (from torch_geometric) (4.66.1)\n",
            "Requirement already satisfied: numpy in /usr/local/lib/python3.10/dist-packages (from torch_geometric) (1.23.5)\n",
            "Requirement already satisfied: scipy in /usr/local/lib/python3.10/dist-packages (from torch_geometric) (1.11.2)\n",
            "Requirement already satisfied: jinja2 in /usr/local/lib/python3.10/dist-packages (from torch_geometric) (3.0.3)\n",
            "Requirement already satisfied: requests in /usr/local/lib/python3.10/dist-packages (from torch_geometric) (2.31.0)\n",
            "Requirement already satisfied: pyparsing in /usr/local/lib/python3.10/dist-packages (from torch_geometric) (3.1.1)\n",
            "Requirement already satisfied: scikit-learn in /usr/local/lib/python3.10/dist-packages (from torch_geometric) (1.2.2)\n",
            "Requirement already satisfied: psutil>=5.8.0 in /usr/local/lib/python3.10/dist-packages (from torch_geometric) (5.9.5)\n",
            "Requirement already satisfied: MarkupSafe>=2.0 in /usr/local/lib/python3.10/dist-packages (from jinja2->torch_geometric) (2.1.3)\n",
            "Requirement already satisfied: charset-normalizer<4,>=2 in /usr/local/lib/python3.10/dist-packages (from requests->torch_geometric) (3.2.0)\n",
            "Requirement already satisfied: idna<4,>=2.5 in /usr/local/lib/python3.10/dist-packages (from requests->torch_geometric) (3.4)\n",
            "Requirement already satisfied: urllib3<3,>=1.21.1 in /usr/local/lib/python3.10/dist-packages (from requests->torch_geometric) (2.0.4)\n",
            "Requirement already satisfied: certifi>=2017.4.17 in /usr/local/lib/python3.10/dist-packages (from requests->torch_geometric) (2023.7.22)\n",
            "Requirement already satisfied: joblib>=1.1.1 in /usr/local/lib/python3.10/dist-packages (from scikit-learn->torch_geometric) (1.3.2)\n",
            "Requirement already satisfied: threadpoolctl>=2.0.0 in /usr/local/lib/python3.10/dist-packages (from scikit-learn->torch_geometric) (3.2.0)\n",
            "Building wheels for collected packages: torch_geometric\n",
            "  Building wheel for torch_geometric (pyproject.toml) ... \u001b[?25l\u001b[?25hdone\n",
            "  Created wheel for torch_geometric: filename=torch_geometric-2.3.1-py3-none-any.whl size=910454 sha256=6258acfb6a80abb91f91106f0492ae2772969dc4d4bf019e5b462709d983c3f7\n",
            "  Stored in directory: /root/.cache/pip/wheels/ac/dc/30/e2874821ff308ee67dcd7a66dbde912411e19e35a1addda028\n",
            "Successfully built torch_geometric\n",
            "Installing collected packages: torch_geometric\n",
            "Successfully installed torch_geometric-2.3.1\n"
          ]
        }
      ]
    },
    {
      "cell_type": "code",
      "source": [
        "#all necessary imports here\n",
        "import torch_geometric.datasets\n",
        "import torch_geometric.data\n",
        "import pandas as pd\n",
        "import numpy as np\n",
        "import networkx as nx\n",
        "import matplotlib.pyplot as plt\n",
        "import scipy\n",
        "import netrd\n",
        "from scipy.sparse import csr_matrix, lil_matrix"
      ],
      "metadata": {
        "id": "__LPVz_Rf1PS"
      },
      "execution_count": 2,
      "outputs": []
    },
    {
      "cell_type": "code",
      "source": [
        "def plot_degree_dist(G, n = 'Custom'):\n",
        "  degrees = [G.degree(n) for n in G.nodes()]\n",
        "\n",
        "  degree_counts = nx.degree_histogram(G)\n",
        "\n",
        "  plt.xlim(0, max(list(range(len(degree_counts)))))\n",
        "  plt.bar(range(len(degree_counts)), degree_counts)\n",
        "  plt.xlabel(\"Degree\")\n",
        "  plt.ylabel(\"Count\")\n",
        "  plt.title(\"Graph \" + n)\n",
        "  plt.xscale(\"symlog\")\n",
        "  plt.show()\n",
        "\n",
        "def find_index(a, b, XY, start, end):  #XY-1D array\n",
        "  l = [0,0]\n",
        "  for i in range(start, end):\n",
        "    if XY[i]==a:\n",
        "      l[0] = i\n",
        "    elif XY[i]==b:\n",
        "      l[1] = i\n",
        "  return l\n",
        "\n",
        "def compare_find_common(a, b, XY, start, end):  #XY-2D array\n",
        "  l = [0,0]\n",
        "  for i in range(start,end):\n",
        "    if np.array_equal(XY[i],a):\n",
        "      l[0] = i\n",
        "    elif np.array_equal(XY[i],b):\n",
        "      l[1] = i\n",
        "  return l\n",
        "\n",
        "def convert(p):\n",
        "  s = \"\"\n",
        "  if p==0:\n",
        "    print(\"Euclidean Distance\")\n",
        "    s = \"Euclidean Distance\"\n",
        "  elif p==1:\n",
        "    print(\"Cosine Similarity\")\n",
        "    s = \"Cosine Similarity\"\n",
        "  elif p==2:\n",
        "    print(\"Manhattan Distance\")\n",
        "    s = \"Manhattan Distance\"\n",
        "  else:\n",
        "    print(\"Hamming Distance\")\n",
        "    s = \"Hamming Distance\"\n",
        "  return s\n",
        "\n",
        "def dataset_select(data):\n",
        "  if data[-1]=='1':\n",
        "    print(\"Flickr Dataset selected!\")\n",
        "  elif data[-1]=='2':\n",
        "    print(\"Amazon Computers Dataset selected!\")\n",
        "  elif data[-1]=='3':\n",
        "    print(\"Attributed Graph Cora Dataset selected!\")\n",
        "  elif data[-1]=='4':\n",
        "    print(\"Heterophilus Graph Questions dataset selected!\")\n",
        "  else:\n",
        "    print(\"Citation CiteSeer dataset selected!\")\n",
        "\n",
        "def make_compatible_kl(A, B):  #A and B 2D arrays with first dim length same\n",
        "  if A.shape[1]>=B.shape[1]:\n",
        "    C = np.ones((A.shape[0],A.shape[1]))\n",
        "    for i in range(B.shape[0]):\n",
        "      for j in range(B.shape[1]):\n",
        "        if A[i][j]==0 or B[i][j]==0:\n",
        "          continue\n",
        "        C[i][j] = B[i][j]\n",
        "    for i in range(A.shape[0]):\n",
        "      for j in range(A.shape[1]):\n",
        "        if A[i][j]==0 or C[i][j]==0:\n",
        "          A[i][j]=1\n",
        "          C[i][j]=1\n",
        "          continue\n",
        "    kl = sum(sum(scipy.special.kl_div(A, C)))\n",
        "  else:\n",
        "    C = np.ones((B.shape[0],B.shape[1]))\n",
        "    for i in range(A.shape[0]):\n",
        "      for j in range(A.shape[1]):\n",
        "        if A[i][j]==0 or B[i][j]==0:\n",
        "          continue\n",
        "        C[i][j] = A[i][j]\n",
        "    for i in range(B.shape[0]):\n",
        "      for j in range(B.shape[1]):\n",
        "        if B[i][j]==0 or C[i][j]==0:\n",
        "          B[i][j]=1\n",
        "          C[i][j]=1\n",
        "          continue\n",
        "    kl = sum(sum(scipy.special.kl_div(C, B)))\n",
        "  return kl\n"
      ],
      "metadata": {
        "id": "ANEk9JFOsUfB"
      },
      "execution_count": 16,
      "outputs": []
    },
    {
      "cell_type": "code",
      "source": [
        "dataset1 = torch_geometric.datasets.Flickr(\"/content\")\n",
        "dataset2 = torch_geometric.datasets.Amazon(\"/content\",\"Computers\")\n",
        "dataset3 = torch_geometric.datasets.AttributedGraphDataset(\"/content\",\"Cora\")\n",
        "dataset4 = torch_geometric.datasets.HeterophilousGraphDataset(\"/content\",\"Questions\")\n",
        "dataset5 = torch_geometric.datasets.CitationFull(\"/content\",\"CiteSeer\")"
      ],
      "metadata": {
        "id": "y1Yt8Y4ef1Tl",
        "colab": {
          "base_uri": "https://localhost:8080/"
        },
        "outputId": "51178ba1-cb4a-44ad-ccb8-3f3941c614ec"
      },
      "execution_count": 4,
      "outputs": [
        {
          "output_type": "stream",
          "name": "stderr",
          "text": [
            "Downloading https://docs.google.com/uc?export=download&id=1crmsTbd1-2sEXsGwa2IKnIB7Zd3TmUsy&confirm=t\n",
            "Downloading https://docs.google.com/uc?export=download&id=1join-XdvX3anJU_MLVtick7MgeAQiWIZ&confirm=t\n",
            "Downloading https://docs.google.com/uc?export=download&id=1uxIkbtg5drHTsKt-PAsZZ4_yJmgFmle9&confirm=t\n",
            "Downloading https://docs.google.com/uc?export=download&id=1htXCtuktuCW8TR8KiKfrFDAxUgekQoV7&confirm=t\n",
            "Processing...\n",
            "Done!\n",
            "Downloading https://github.com/shchur/gnn-benchmark/raw/master/data/npz/amazon_electronics_computers.npz\n",
            "Processing...\n",
            "Done!\n",
            "Downloading https://docs.google.com/uc?export=download&id=1FyVnpdsTT-lhkVPotUW8OVeuCi1vi3Ey&confirm=t\n",
            "Extracting /content/cora/raw/uc\n",
            "Processing...\n",
            "Done!\n",
            "Downloading https://github.com/yandex-research/heterophilous-graphs/raw/main/data/questions.npz\n",
            "Processing...\n",
            "Done!\n",
            "Downloading https://github.com/abojchevski/graph2gauss/raw/master/data/citeseer.npz\n",
            "Processing...\n",
            "Done!\n"
          ]
        }
      ]
    },
    {
      "cell_type": "code",
      "source": [
        "print(\"Select one of datasets:-\")\n",
        "y = int(input())\n",
        "if y not in range(1,6):\n",
        "  raise AssertionError(\"Invalid attribute\")\n",
        "if y==1:\n",
        "  dataset = dataset1\n",
        "  s = \"dataset1\"\n",
        "elif y==2:\n",
        "  dataset = dataset2\n",
        "  s = \"dataset2\"\n",
        "elif y==3:\n",
        "  dataset = dataset3\n",
        "  s = \"dataset3\"\n",
        "elif y==4:\n",
        "  dataset = dataset4\n",
        "  s = \"dataset4\"\n",
        "else:\n",
        "  dataset = dataset5\n",
        "  s = \"dataset5\"\n",
        "\n",
        "dataset_select(s)"
      ],
      "metadata": {
        "colab": {
          "base_uri": "https://localhost:8080/"
        },
        "id": "YkdCMnK9U00g",
        "outputId": "5c57daaf-1b0d-43ff-eb59-c9d2f6bb82b3"
      },
      "execution_count": 5,
      "outputs": [
        {
          "output_type": "stream",
          "name": "stdout",
          "text": [
            "Select one of datasets:-\n",
            "1\n",
            "Flickr Dataset selected!\n"
          ]
        }
      ]
    },
    {
      "cell_type": "code",
      "source": [
        "graph_data = dataset[0]  #accessing the graph in the dataset\n",
        "data = torch_geometric.data.Data(x=graph_data.x, edge_index=graph_data.edge_index, y=graph_data.y)\n",
        "data"
      ],
      "metadata": {
        "id": "eGq8e_Aff1WC",
        "colab": {
          "base_uri": "https://localhost:8080/"
        },
        "outputId": "524fb4f3-df07-48a4-cb5c-db2a1f188aca"
      },
      "execution_count": 6,
      "outputs": [
        {
          "output_type": "execute_result",
          "data": {
            "text/plain": [
              "Data(x=[89250, 500], edge_index=[2, 899756], y=[89250])"
            ]
          },
          "metadata": {},
          "execution_count": 6
        }
      ]
    },
    {
      "cell_type": "code",
      "source": [
        "set_data = data.__dict__ #converting data object to dictionary\n",
        "dataset_report = pd.DataFrame(index = [\"Number of Nodes\", \"Number of Node Features\", \"Number of Edges\"])\n",
        "dataset_report['0'] = [set_data['_store']['x'].shape[0], set_data['_store']['x'].shape[1], set_data['_store']['edge_index'].shape[1]]\n",
        "dataset_report.to_csv(\"dataset_report_\"+s+\".csv\") #saving dataset descriptive stats as csv file"
      ],
      "metadata": {
        "id": "yFGLjam5lcrn"
      },
      "execution_count": 7,
      "outputs": []
    },
    {
      "cell_type": "code",
      "source": [
        "node_features = pd.DataFrame(data.x.numpy())\n",
        "edge_indices = pd.DataFrame(data.edge_index.numpy().T, columns=['source', 'target']) #denotes the source and destination nodes starting from 0\n",
        "node_labels = pd.DataFrame(data.y.numpy(), columns=['label']) #denotes the community to which an edge belongs\n",
        "graph_df = pd.concat([node_features, edge_indices, node_labels], axis=1)\n",
        "graph_df.dropna(inplace=True)\n",
        "graph_df.head()"
      ],
      "metadata": {
        "colab": {
          "base_uri": "https://localhost:8080/",
          "height": 235
        },
        "id": "-gmlQPpSE9TY",
        "outputId": "025f4740-eb12-472a-d455-2c304a835ae1"
      },
      "execution_count": 8,
      "outputs": [
        {
          "output_type": "execute_result",
          "data": {
            "text/plain": [
              "     0    1    2    3    4    5    6    7    8    9  ...  493  494  495  496  \\\n",
              "0  0.0  1.0  1.0  3.0  2.0  2.0  0.0  2.0  1.0  3.0  ...  1.0  1.0  2.0  0.0   \n",
              "1  2.0  2.0  0.0  0.0  3.0  1.0  1.0  0.0  1.0  2.0  ...  0.0  1.0  0.0  1.0   \n",
              "2  0.0  0.0  4.0  3.0  2.0  1.0  0.0  0.0  3.0  0.0  ...  1.0  0.0  2.0  1.0   \n",
              "3  4.0  0.0  1.0  1.0  1.0  1.0  3.0  0.0  1.0  4.0  ...  4.0  3.0  0.0  1.0   \n",
              "4  2.0  1.0  0.0  0.0  1.0  0.0  0.0  0.0  1.0  2.0  ...  1.0  0.0  0.0  0.0   \n",
              "\n",
              "   497  498  499  source  target  label  \n",
              "0  0.0  3.0  0.0       0       1    2.0  \n",
              "1  0.0  4.0  1.0       0    1694    6.0  \n",
              "2  0.0  0.0  3.0       0    2569    4.0  \n",
              "3  1.0  1.0  3.0       0    2639    2.0  \n",
              "4  2.0  0.0  2.0       0    4858    0.0  \n",
              "\n",
              "[5 rows x 503 columns]"
            ],
            "text/html": [
              "\n",
              "  <div id=\"df-82b40765-12b3-470f-bdef-a25159ffbf38\" class=\"colab-df-container\">\n",
              "    <div>\n",
              "<style scoped>\n",
              "    .dataframe tbody tr th:only-of-type {\n",
              "        vertical-align: middle;\n",
              "    }\n",
              "\n",
              "    .dataframe tbody tr th {\n",
              "        vertical-align: top;\n",
              "    }\n",
              "\n",
              "    .dataframe thead th {\n",
              "        text-align: right;\n",
              "    }\n",
              "</style>\n",
              "<table border=\"1\" class=\"dataframe\">\n",
              "  <thead>\n",
              "    <tr style=\"text-align: right;\">\n",
              "      <th></th>\n",
              "      <th>0</th>\n",
              "      <th>1</th>\n",
              "      <th>2</th>\n",
              "      <th>3</th>\n",
              "      <th>4</th>\n",
              "      <th>5</th>\n",
              "      <th>6</th>\n",
              "      <th>7</th>\n",
              "      <th>8</th>\n",
              "      <th>9</th>\n",
              "      <th>...</th>\n",
              "      <th>493</th>\n",
              "      <th>494</th>\n",
              "      <th>495</th>\n",
              "      <th>496</th>\n",
              "      <th>497</th>\n",
              "      <th>498</th>\n",
              "      <th>499</th>\n",
              "      <th>source</th>\n",
              "      <th>target</th>\n",
              "      <th>label</th>\n",
              "    </tr>\n",
              "  </thead>\n",
              "  <tbody>\n",
              "    <tr>\n",
              "      <th>0</th>\n",
              "      <td>0.0</td>\n",
              "      <td>1.0</td>\n",
              "      <td>1.0</td>\n",
              "      <td>3.0</td>\n",
              "      <td>2.0</td>\n",
              "      <td>2.0</td>\n",
              "      <td>0.0</td>\n",
              "      <td>2.0</td>\n",
              "      <td>1.0</td>\n",
              "      <td>3.0</td>\n",
              "      <td>...</td>\n",
              "      <td>1.0</td>\n",
              "      <td>1.0</td>\n",
              "      <td>2.0</td>\n",
              "      <td>0.0</td>\n",
              "      <td>0.0</td>\n",
              "      <td>3.0</td>\n",
              "      <td>0.0</td>\n",
              "      <td>0</td>\n",
              "      <td>1</td>\n",
              "      <td>2.0</td>\n",
              "    </tr>\n",
              "    <tr>\n",
              "      <th>1</th>\n",
              "      <td>2.0</td>\n",
              "      <td>2.0</td>\n",
              "      <td>0.0</td>\n",
              "      <td>0.0</td>\n",
              "      <td>3.0</td>\n",
              "      <td>1.0</td>\n",
              "      <td>1.0</td>\n",
              "      <td>0.0</td>\n",
              "      <td>1.0</td>\n",
              "      <td>2.0</td>\n",
              "      <td>...</td>\n",
              "      <td>0.0</td>\n",
              "      <td>1.0</td>\n",
              "      <td>0.0</td>\n",
              "      <td>1.0</td>\n",
              "      <td>0.0</td>\n",
              "      <td>4.0</td>\n",
              "      <td>1.0</td>\n",
              "      <td>0</td>\n",
              "      <td>1694</td>\n",
              "      <td>6.0</td>\n",
              "    </tr>\n",
              "    <tr>\n",
              "      <th>2</th>\n",
              "      <td>0.0</td>\n",
              "      <td>0.0</td>\n",
              "      <td>4.0</td>\n",
              "      <td>3.0</td>\n",
              "      <td>2.0</td>\n",
              "      <td>1.0</td>\n",
              "      <td>0.0</td>\n",
              "      <td>0.0</td>\n",
              "      <td>3.0</td>\n",
              "      <td>0.0</td>\n",
              "      <td>...</td>\n",
              "      <td>1.0</td>\n",
              "      <td>0.0</td>\n",
              "      <td>2.0</td>\n",
              "      <td>1.0</td>\n",
              "      <td>0.0</td>\n",
              "      <td>0.0</td>\n",
              "      <td>3.0</td>\n",
              "      <td>0</td>\n",
              "      <td>2569</td>\n",
              "      <td>4.0</td>\n",
              "    </tr>\n",
              "    <tr>\n",
              "      <th>3</th>\n",
              "      <td>4.0</td>\n",
              "      <td>0.0</td>\n",
              "      <td>1.0</td>\n",
              "      <td>1.0</td>\n",
              "      <td>1.0</td>\n",
              "      <td>1.0</td>\n",
              "      <td>3.0</td>\n",
              "      <td>0.0</td>\n",
              "      <td>1.0</td>\n",
              "      <td>4.0</td>\n",
              "      <td>...</td>\n",
              "      <td>4.0</td>\n",
              "      <td>3.0</td>\n",
              "      <td>0.0</td>\n",
              "      <td>1.0</td>\n",
              "      <td>1.0</td>\n",
              "      <td>1.0</td>\n",
              "      <td>3.0</td>\n",
              "      <td>0</td>\n",
              "      <td>2639</td>\n",
              "      <td>2.0</td>\n",
              "    </tr>\n",
              "    <tr>\n",
              "      <th>4</th>\n",
              "      <td>2.0</td>\n",
              "      <td>1.0</td>\n",
              "      <td>0.0</td>\n",
              "      <td>0.0</td>\n",
              "      <td>1.0</td>\n",
              "      <td>0.0</td>\n",
              "      <td>0.0</td>\n",
              "      <td>0.0</td>\n",
              "      <td>1.0</td>\n",
              "      <td>2.0</td>\n",
              "      <td>...</td>\n",
              "      <td>1.0</td>\n",
              "      <td>0.0</td>\n",
              "      <td>0.0</td>\n",
              "      <td>0.0</td>\n",
              "      <td>2.0</td>\n",
              "      <td>0.0</td>\n",
              "      <td>2.0</td>\n",
              "      <td>0</td>\n",
              "      <td>4858</td>\n",
              "      <td>0.0</td>\n",
              "    </tr>\n",
              "  </tbody>\n",
              "</table>\n",
              "<p>5 rows × 503 columns</p>\n",
              "</div>\n",
              "    <div class=\"colab-df-buttons\">\n",
              "\n",
              "  <div class=\"colab-df-container\">\n",
              "    <button class=\"colab-df-convert\" onclick=\"convertToInteractive('df-82b40765-12b3-470f-bdef-a25159ffbf38')\"\n",
              "            title=\"Convert this dataframe to an interactive table.\"\n",
              "            style=\"display:none;\">\n",
              "\n",
              "  <svg xmlns=\"http://www.w3.org/2000/svg\" height=\"24px\" viewBox=\"0 -960 960 960\">\n",
              "    <path d=\"M120-120v-720h720v720H120Zm60-500h600v-160H180v160Zm220 220h160v-160H400v160Zm0 220h160v-160H400v160ZM180-400h160v-160H180v160Zm440 0h160v-160H620v160ZM180-180h160v-160H180v160Zm440 0h160v-160H620v160Z\"/>\n",
              "  </svg>\n",
              "    </button>\n",
              "\n",
              "  <style>\n",
              "    .colab-df-container {\n",
              "      display:flex;\n",
              "      gap: 12px;\n",
              "    }\n",
              "\n",
              "    .colab-df-convert {\n",
              "      background-color: #E8F0FE;\n",
              "      border: none;\n",
              "      border-radius: 50%;\n",
              "      cursor: pointer;\n",
              "      display: none;\n",
              "      fill: #1967D2;\n",
              "      height: 32px;\n",
              "      padding: 0 0 0 0;\n",
              "      width: 32px;\n",
              "    }\n",
              "\n",
              "    .colab-df-convert:hover {\n",
              "      background-color: #E2EBFA;\n",
              "      box-shadow: 0px 1px 2px rgba(60, 64, 67, 0.3), 0px 1px 3px 1px rgba(60, 64, 67, 0.15);\n",
              "      fill: #174EA6;\n",
              "    }\n",
              "\n",
              "    .colab-df-buttons div {\n",
              "      margin-bottom: 4px;\n",
              "    }\n",
              "\n",
              "    [theme=dark] .colab-df-convert {\n",
              "      background-color: #3B4455;\n",
              "      fill: #D2E3FC;\n",
              "    }\n",
              "\n",
              "    [theme=dark] .colab-df-convert:hover {\n",
              "      background-color: #434B5C;\n",
              "      box-shadow: 0px 1px 3px 1px rgba(0, 0, 0, 0.15);\n",
              "      filter: drop-shadow(0px 1px 2px rgba(0, 0, 0, 0.3));\n",
              "      fill: #FFFFFF;\n",
              "    }\n",
              "  </style>\n",
              "\n",
              "    <script>\n",
              "      const buttonEl =\n",
              "        document.querySelector('#df-82b40765-12b3-470f-bdef-a25159ffbf38 button.colab-df-convert');\n",
              "      buttonEl.style.display =\n",
              "        google.colab.kernel.accessAllowed ? 'block' : 'none';\n",
              "\n",
              "      async function convertToInteractive(key) {\n",
              "        const element = document.querySelector('#df-82b40765-12b3-470f-bdef-a25159ffbf38');\n",
              "        const dataTable =\n",
              "          await google.colab.kernel.invokeFunction('convertToInteractive',\n",
              "                                                    [key], {});\n",
              "        if (!dataTable) return;\n",
              "\n",
              "        const docLinkHtml = 'Like what you see? Visit the ' +\n",
              "          '<a target=\"_blank\" href=https://colab.research.google.com/notebooks/data_table.ipynb>data table notebook</a>'\n",
              "          + ' to learn more about interactive tables.';\n",
              "        element.innerHTML = '';\n",
              "        dataTable['output_type'] = 'display_data';\n",
              "        await google.colab.output.renderOutput(dataTable, element);\n",
              "        const docLink = document.createElement('div');\n",
              "        docLink.innerHTML = docLinkHtml;\n",
              "        element.appendChild(docLink);\n",
              "      }\n",
              "    </script>\n",
              "  </div>\n",
              "\n",
              "\n",
              "<div id=\"df-ebd234fc-6367-4762-af48-d667bbddeb82\">\n",
              "  <button class=\"colab-df-quickchart\" onclick=\"quickchart('df-ebd234fc-6367-4762-af48-d667bbddeb82')\"\n",
              "            title=\"Suggest charts.\"\n",
              "            style=\"display:none;\">\n",
              "\n",
              "<svg xmlns=\"http://www.w3.org/2000/svg\" height=\"24px\"viewBox=\"0 0 24 24\"\n",
              "     width=\"24px\">\n",
              "    <g>\n",
              "        <path d=\"M19 3H5c-1.1 0-2 .9-2 2v14c0 1.1.9 2 2 2h14c1.1 0 2-.9 2-2V5c0-1.1-.9-2-2-2zM9 17H7v-7h2v7zm4 0h-2V7h2v10zm4 0h-2v-4h2v4z\"/>\n",
              "    </g>\n",
              "</svg>\n",
              "  </button>\n",
              "\n",
              "<style>\n",
              "  .colab-df-quickchart {\n",
              "      --bg-color: #E8F0FE;\n",
              "      --fill-color: #1967D2;\n",
              "      --hover-bg-color: #E2EBFA;\n",
              "      --hover-fill-color: #174EA6;\n",
              "      --disabled-fill-color: #AAA;\n",
              "      --disabled-bg-color: #DDD;\n",
              "  }\n",
              "\n",
              "  [theme=dark] .colab-df-quickchart {\n",
              "      --bg-color: #3B4455;\n",
              "      --fill-color: #D2E3FC;\n",
              "      --hover-bg-color: #434B5C;\n",
              "      --hover-fill-color: #FFFFFF;\n",
              "      --disabled-bg-color: #3B4455;\n",
              "      --disabled-fill-color: #666;\n",
              "  }\n",
              "\n",
              "  .colab-df-quickchart {\n",
              "    background-color: var(--bg-color);\n",
              "    border: none;\n",
              "    border-radius: 50%;\n",
              "    cursor: pointer;\n",
              "    display: none;\n",
              "    fill: var(--fill-color);\n",
              "    height: 32px;\n",
              "    padding: 0;\n",
              "    width: 32px;\n",
              "  }\n",
              "\n",
              "  .colab-df-quickchart:hover {\n",
              "    background-color: var(--hover-bg-color);\n",
              "    box-shadow: 0 1px 2px rgba(60, 64, 67, 0.3), 0 1px 3px 1px rgba(60, 64, 67, 0.15);\n",
              "    fill: var(--button-hover-fill-color);\n",
              "  }\n",
              "\n",
              "  .colab-df-quickchart-complete:disabled,\n",
              "  .colab-df-quickchart-complete:disabled:hover {\n",
              "    background-color: var(--disabled-bg-color);\n",
              "    fill: var(--disabled-fill-color);\n",
              "    box-shadow: none;\n",
              "  }\n",
              "\n",
              "  .colab-df-spinner {\n",
              "    border: 2px solid var(--fill-color);\n",
              "    border-color: transparent;\n",
              "    border-bottom-color: var(--fill-color);\n",
              "    animation:\n",
              "      spin 1s steps(1) infinite;\n",
              "  }\n",
              "\n",
              "  @keyframes spin {\n",
              "    0% {\n",
              "      border-color: transparent;\n",
              "      border-bottom-color: var(--fill-color);\n",
              "      border-left-color: var(--fill-color);\n",
              "    }\n",
              "    20% {\n",
              "      border-color: transparent;\n",
              "      border-left-color: var(--fill-color);\n",
              "      border-top-color: var(--fill-color);\n",
              "    }\n",
              "    30% {\n",
              "      border-color: transparent;\n",
              "      border-left-color: var(--fill-color);\n",
              "      border-top-color: var(--fill-color);\n",
              "      border-right-color: var(--fill-color);\n",
              "    }\n",
              "    40% {\n",
              "      border-color: transparent;\n",
              "      border-right-color: var(--fill-color);\n",
              "      border-top-color: var(--fill-color);\n",
              "    }\n",
              "    60% {\n",
              "      border-color: transparent;\n",
              "      border-right-color: var(--fill-color);\n",
              "    }\n",
              "    80% {\n",
              "      border-color: transparent;\n",
              "      border-right-color: var(--fill-color);\n",
              "      border-bottom-color: var(--fill-color);\n",
              "    }\n",
              "    90% {\n",
              "      border-color: transparent;\n",
              "      border-bottom-color: var(--fill-color);\n",
              "    }\n",
              "  }\n",
              "</style>\n",
              "\n",
              "  <script>\n",
              "    async function quickchart(key) {\n",
              "      const quickchartButtonEl =\n",
              "        document.querySelector('#' + key + ' button');\n",
              "      quickchartButtonEl.disabled = true;  // To prevent multiple clicks.\n",
              "      quickchartButtonEl.classList.add('colab-df-spinner');\n",
              "      try {\n",
              "        const charts = await google.colab.kernel.invokeFunction(\n",
              "            'suggestCharts', [key], {});\n",
              "      } catch (error) {\n",
              "        console.error('Error during call to suggestCharts:', error);\n",
              "      }\n",
              "      quickchartButtonEl.classList.remove('colab-df-spinner');\n",
              "      quickchartButtonEl.classList.add('colab-df-quickchart-complete');\n",
              "    }\n",
              "    (() => {\n",
              "      let quickchartButtonEl =\n",
              "        document.querySelector('#df-ebd234fc-6367-4762-af48-d667bbddeb82 button');\n",
              "      quickchartButtonEl.style.display =\n",
              "        google.colab.kernel.accessAllowed ? 'block' : 'none';\n",
              "    })();\n",
              "  </script>\n",
              "</div>\n",
              "    </div>\n",
              "  </div>\n"
            ]
          },
          "metadata": {},
          "execution_count": 8
        }
      ]
    },
    {
      "cell_type": "code",
      "source": [
        "data = graph_df[['source', 'target']]\n",
        "data = data.to_numpy()\n",
        "G_true = nx.Graph() #creating the actual(Ground truth) graph from the dataset\n",
        "for i in range(data.shape[0]):\n",
        "  G_true.add_edge(data[i][0], data[i][1])\n",
        "plot_degree_dist(G_true, 'Actual') #using symmetrical log scale for x-axis (refer:- https://matplotlib.org/stable/api/scale_api.html#matplotlib.scale.SymmetricalLogScale)"
      ],
      "metadata": {
        "id": "4333cfZHzdVs",
        "colab": {
          "base_uri": "https://localhost:8080/",
          "height": 476
        },
        "outputId": "d38151d3-f3d7-4f36-a1c8-48e4182a6e36"
      },
      "execution_count": 17,
      "outputs": [
        {
          "output_type": "display_data",
          "data": {
            "text/plain": [
              "<Figure size 640x480 with 1 Axes>"
            ],
            "image/png": "[encoded data removed]"
          },
          "metadata": {}
        }
      ]
    },
    {
      "cell_type": "code",
      "source": [
        "cols = graph_df.columns\n",
        "cols = list(cols)\n",
        "cols.remove('target')\n",
        "cols.remove('label')"
      ],
      "metadata": {
        "id": "g0vR_0hyXu2E"
      },
      "execution_count": 18,
      "outputs": []
    },
    {
      "cell_type": "code",
      "source": [
        "feature_df = graph_df.loc[:,cols]\n",
        "feature_df.head()"
      ],
      "metadata": {
        "id": "AnvED-f_jDw3",
        "colab": {
          "base_uri": "https://localhost:8080/",
          "height": 235
        },
        "outputId": "3641eb8a-9487-4ed6-9ffb-04bdf5b15f92"
      },
      "execution_count": 19,
      "outputs": [
        {
          "output_type": "execute_result",
          "data": {
            "text/plain": [
              "     0    1    2    3    4    5    6    7    8    9  ...  491  492  493  494  \\\n",
              "0  0.0  1.0  1.0  3.0  2.0  2.0  0.0  2.0  1.0  3.0  ...  0.0  0.0  1.0  1.0   \n",
              "1  2.0  2.0  0.0  0.0  3.0  1.0  1.0  0.0  1.0  2.0  ...  1.0  0.0  0.0  1.0   \n",
              "2  0.0  0.0  4.0  3.0  2.0  1.0  0.0  0.0  3.0  0.0  ...  0.0  0.0  1.0  0.0   \n",
              "3  4.0  0.0  1.0  1.0  1.0  1.0  3.0  0.0  1.0  4.0  ...  5.0  0.0  4.0  3.0   \n",
              "4  2.0  1.0  0.0  0.0  1.0  0.0  0.0  0.0  1.0  2.0  ...  0.0  0.0  1.0  0.0   \n",
              "\n",
              "   495  496  497  498  499  source  \n",
              "0  2.0  0.0  0.0  3.0  0.0       0  \n",
              "1  0.0  1.0  0.0  4.0  1.0       0  \n",
              "2  2.0  1.0  0.0  0.0  3.0       0  \n",
              "3  0.0  1.0  1.0  1.0  3.0       0  \n",
              "4  0.0  0.0  2.0  0.0  2.0       0  \n",
              "\n",
              "[5 rows x 501 columns]"
            ],
            "text/html": [
              "\n",
              "  <div id=\"df-e09ea1eb-1460-4bb6-b2b1-1325bbbc31d5\" class=\"colab-df-container\">\n",
              "    <div>\n",
              "<style scoped>\n",
              "    .dataframe tbody tr th:only-of-type {\n",
              "        vertical-align: middle;\n",
              "    }\n",
              "\n",
              "    .dataframe tbody tr th {\n",
              "        vertical-align: top;\n",
              "    }\n",
              "\n",
              "    .dataframe thead th {\n",
              "        text-align: right;\n",
              "    }\n",
              "</style>\n",
              "<table border=\"1\" class=\"dataframe\">\n",
              "  <thead>\n",
              "    <tr style=\"text-align: right;\">\n",
              "      <th></th>\n",
              "      <th>0</th>\n",
              "      <th>1</th>\n",
              "      <th>2</th>\n",
              "      <th>3</th>\n",
              "      <th>4</th>\n",
              "      <th>5</th>\n",
              "      <th>6</th>\n",
              "      <th>7</th>\n",
              "      <th>8</th>\n",
              "      <th>9</th>\n",
              "      <th>...</th>\n",
              "      <th>491</th>\n",
              "      <th>492</th>\n",
              "      <th>493</th>\n",
              "      <th>494</th>\n",
              "      <th>495</th>\n",
              "      <th>496</th>\n",
              "      <th>497</th>\n",
              "      <th>498</th>\n",
              "      <th>499</th>\n",
              "      <th>source</th>\n",
              "    </tr>\n",
              "  </thead>\n",
              "  <tbody>\n",
              "    <tr>\n",
              "      <th>0</th>\n",
              "      <td>0.0</td>\n",
              "      <td>1.0</td>\n",
              "      <td>1.0</td>\n",
              "      <td>3.0</td>\n",
              "      <td>2.0</td>\n",
              "      <td>2.0</td>\n",
              "      <td>0.0</td>\n",
              "      <td>2.0</td>\n",
              "      <td>1.0</td>\n",
              "      <td>3.0</td>\n",
              "      <td>...</td>\n",
              "      <td>0.0</td>\n",
              "      <td>0.0</td>\n",
              "      <td>1.0</td>\n",
              "      <td>1.0</td>\n",
              "      <td>2.0</td>\n",
              "      <td>0.0</td>\n",
              "      <td>0.0</td>\n",
              "      <td>3.0</td>\n",
              "      <td>0.0</td>\n",
              "      <td>0</td>\n",
              "    </tr>\n",
              "    <tr>\n",
              "      <th>1</th>\n",
              "      <td>2.0</td>\n",
              "      <td>2.0</td>\n",
              "      <td>0.0</td>\n",
              "      <td>0.0</td>\n",
              "      <td>3.0</td>\n",
              "      <td>1.0</td>\n",
              "      <td>1.0</td>\n",
              "      <td>0.0</td>\n",
              "      <td>1.0</td>\n",
              "      <td>2.0</td>\n",
              "      <td>...</td>\n",
              "      <td>1.0</td>\n",
              "      <td>0.0</td>\n",
              "      <td>0.0</td>\n",
              "      <td>1.0</td>\n",
              "      <td>0.0</td>\n",
              "      <td>1.0</td>\n",
              "      <td>0.0</td>\n",
              "      <td>4.0</td>\n",
              "      <td>1.0</td>\n",
              "      <td>0</td>\n",
              "    </tr>\n",
              "    <tr>\n",
              "      <th>2</th>\n",
              "      <td>0.0</td>\n",
              "      <td>0.0</td>\n",
              "      <td>4.0</td>\n",
              "      <td>3.0</td>\n",
              "      <td>2.0</td>\n",
              "      <td>1.0</td>\n",
              "      <td>0.0</td>\n",
              "      <td>0.0</td>\n",
              "      <td>3.0</td>\n",
              "      <td>0.0</td>\n",
              "      <td>...</td>\n",
              "      <td>0.0</td>\n",
              "      <td>0.0</td>\n",
              "      <td>1.0</td>\n",
              "      <td>0.0</td>\n",
              "      <td>2.0</td>\n",
              "      <td>1.0</td>\n",
              "      <td>0.0</td>\n",
              "      <td>0.0</td>\n",
              "      <td>3.0</td>\n",
              "      <td>0</td>\n",
              "    </tr>\n",
              "    <tr>\n",
              "      <th>3</th>\n",
              "      <td>4.0</td>\n",
              "      <td>0.0</td>\n",
              "      <td>1.0</td>\n",
              "      <td>1.0</td>\n",
              "      <td>1.0</td>\n",
              "      <td>1.0</td>\n",
              "      <td>3.0</td>\n",
              "      <td>0.0</td>\n",
              "      <td>1.0</td>\n",
              "      <td>4.0</td>\n",
              "      <td>...</td>\n",
              "      <td>5.0</td>\n",
              "      <td>0.0</td>\n",
              "      <td>4.0</td>\n",
              "      <td>3.0</td>\n",
              "      <td>0.0</td>\n",
              "      <td>1.0</td>\n",
              "      <td>1.0</td>\n",
              "      <td>1.0</td>\n",
              "      <td>3.0</td>\n",
              "      <td>0</td>\n",
              "    </tr>\n",
              "    <tr>\n",
              "      <th>4</th>\n",
              "      <td>2.0</td>\n",
              "      <td>1.0</td>\n",
              "      <td>0.0</td>\n",
              "      <td>0.0</td>\n",
              "      <td>1.0</td>\n",
              "      <td>0.0</td>\n",
              "      <td>0.0</td>\n",
              "      <td>0.0</td>\n",
              "      <td>1.0</td>\n",
              "      <td>2.0</td>\n",
              "      <td>...</td>\n",
              "      <td>0.0</td>\n",
              "      <td>0.0</td>\n",
              "      <td>1.0</td>\n",
              "      <td>0.0</td>\n",
              "      <td>0.0</td>\n",
              "      <td>0.0</td>\n",
              "      <td>2.0</td>\n",
              "      <td>0.0</td>\n",
              "      <td>2.0</td>\n",
              "      <td>0</td>\n",
              "    </tr>\n",
              "  </tbody>\n",
              "</table>\n",
              "<p>5 rows × 501 columns</p>\n",
              "</div>\n",
              "    <div class=\"colab-df-buttons\">\n",
              "\n",
              "  <div class=\"colab-df-container\">\n",
              "    <button class=\"colab-df-convert\" onclick=\"convertToInteractive('df-e09ea1eb-1460-4bb6-b2b1-1325bbbc31d5')\"\n",
              "            title=\"Convert this dataframe to an interactive table.\"\n",
              "            style=\"display:none;\">\n",
              "\n",
              "  <svg xmlns=\"http://www.w3.org/2000/svg\" height=\"24px\" viewBox=\"0 -960 960 960\">\n",
              "    <path d=\"M120-120v-720h720v720H120Zm60-500h600v-160H180v160Zm220 220h160v-160H400v160Zm0 220h160v-160H400v160ZM180-400h160v-160H180v160Zm440 0h160v-160H620v160ZM180-180h160v-160H180v160Zm440 0h160v-160H620v160Z\"/>\n",
              "  </svg>\n",
              "    </button>\n",
              "\n",
              "  <style>\n",
              "    .colab-df-container {\n",
              "      display:flex;\n",
              "      gap: 12px;\n",
              "    }\n",
              "\n",
              "    .colab-df-convert {\n",
              "      background-color: #E8F0FE;\n",
              "      border: none;\n",
              "      border-radius: 50%;\n",
              "      cursor: pointer;\n",
              "      display: none;\n",
              "      fill: #1967D2;\n",
              "      height: 32px;\n",
              "      padding: 0 0 0 0;\n",
              "      width: 32px;\n",
              "    }\n",
              "\n",
              "    .colab-df-convert:hover {\n",
              "      background-color: #E2EBFA;\n",
              "      box-shadow: 0px 1px 2px rgba(60, 64, 67, 0.3), 0px 1px 3px 1px rgba(60, 64, 67, 0.15);\n",
              "      fill: #174EA6;\n",
              "    }\n",
              "\n",
              "    .colab-df-buttons div {\n",
              "      margin-bottom: 4px;\n",
              "    }\n",
              "\n",
              "    [theme=dark] .colab-df-convert {\n",
              "      background-color: #3B4455;\n",
              "      fill: #D2E3FC;\n",
              "    }\n",
              "\n",
              "    [theme=dark] .colab-df-convert:hover {\n",
              "      background-color: #434B5C;\n",
              "      box-shadow: 0px 1px 3px 1px rgba(0, 0, 0, 0.15);\n",
              "      filter: drop-shadow(0px 1px 2px rgba(0, 0, 0, 0.3));\n",
              "      fill: #FFFFFF;\n",
              "    }\n",
              "  </style>\n",
              "\n",
              "    <script>\n",
              "      const buttonEl =\n",
              "        document.querySelector('#df-e09ea1eb-1460-4bb6-b2b1-1325bbbc31d5 button.colab-df-convert');\n",
              "      buttonEl.style.display =\n",
              "        google.colab.kernel.accessAllowed ? 'block' : 'none';\n",
              "\n",
              "      async function convertToInteractive(key) {\n",
              "        const element = document.querySelector('#df-e09ea1eb-1460-4bb6-b2b1-1325bbbc31d5');\n",
              "        const dataTable =\n",
              "          await google.colab.kernel.invokeFunction('convertToInteractive',\n",
              "                                                    [key], {});\n",
              "        if (!dataTable) return;\n",
              "\n",
              "        const docLinkHtml = 'Like what you see? Visit the ' +\n",
              "          '<a target=\"_blank\" href=https://colab.research.google.com/notebooks/data_table.ipynb>data table notebook</a>'\n",
              "          + ' to learn more about interactive tables.';\n",
              "        element.innerHTML = '';\n",
              "        dataTable['output_type'] = 'display_data';\n",
              "        await google.colab.output.renderOutput(dataTable, element);\n",
              "        const docLink = document.createElement('div');\n",
              "        docLink.innerHTML = docLinkHtml;\n",
              "        element.appendChild(docLink);\n",
              "      }\n",
              "    </script>\n",
              "  </div>\n",
              "\n",
              "\n",
              "<div id=\"df-f29e823e-c564-42e1-ab1c-8c56e91c4c97\">\n",
              "  <button class=\"colab-df-quickchart\" onclick=\"quickchart('df-f29e823e-c564-42e1-ab1c-8c56e91c4c97')\"\n",
              "            title=\"Suggest charts.\"\n",
              "            style=\"display:none;\">\n",
              "\n",
              "<svg xmlns=\"http://www.w3.org/2000/svg\" height=\"24px\"viewBox=\"0 0 24 24\"\n",
              "     width=\"24px\">\n",
              "    <g>\n",
              "        <path d=\"M19 3H5c-1.1 0-2 .9-2 2v14c0 1.1.9 2 2 2h14c1.1 0 2-.9 2-2V5c0-1.1-.9-2-2-2zM9 17H7v-7h2v7zm4 0h-2V7h2v10zm4 0h-2v-4h2v4z\"/>\n",
              "    </g>\n",
              "</svg>\n",
              "  </button>\n",
              "\n",
              "<style>\n",
              "  .colab-df-quickchart {\n",
              "      --bg-color: #E8F0FE;\n",
              "      --fill-color: #1967D2;\n",
              "      --hover-bg-color: #E2EBFA;\n",
              "      --hover-fill-color: #174EA6;\n",
              "      --disabled-fill-color: #AAA;\n",
              "      --disabled-bg-color: #DDD;\n",
              "  }\n",
              "\n",
              "  [theme=dark] .colab-df-quickchart {\n",
              "      --bg-color: #3B4455;\n",
              "      --fill-color: #D2E3FC;\n",
              "      --hover-bg-color: #434B5C;\n",
              "      --hover-fill-color: #FFFFFF;\n",
              "      --disabled-bg-color: #3B4455;\n",
              "      --disabled-fill-color: #666;\n",
              "  }\n",
              "\n",
              "  .colab-df-quickchart {\n",
              "    background-color: var(--bg-color);\n",
              "    border: none;\n",
              "    border-radius: 50%;\n",
              "    cursor: pointer;\n",
              "    display: none;\n",
              "    fill: var(--fill-color);\n",
              "    height: 32px;\n",
              "    padding: 0;\n",
              "    width: 32px;\n",
              "  }\n",
              "\n",
              "  .colab-df-quickchart:hover {\n",
              "    background-color: var(--hover-bg-color);\n",
              "    box-shadow: 0 1px 2px rgba(60, 64, 67, 0.3), 0 1px 3px 1px rgba(60, 64, 67, 0.15);\n",
              "    fill: var(--button-hover-fill-color);\n",
              "  }\n",
              "\n",
              "  .colab-df-quickchart-complete:disabled,\n",
              "  .colab-df-quickchart-complete:disabled:hover {\n",
              "    background-color: var(--disabled-bg-color);\n",
              "    fill: var(--disabled-fill-color);\n",
              "    box-shadow: none;\n",
              "  }\n",
              "\n",
              "  .colab-df-spinner {\n",
              "    border: 2px solid var(--fill-color);\n",
              "    border-color: transparent;\n",
              "    border-bottom-color: var(--fill-color);\n",
              "    animation:\n",
              "      spin 1s steps(1) infinite;\n",
              "  }\n",
              "\n",
              "  @keyframes spin {\n",
              "    0% {\n",
              "      border-color: transparent;\n",
              "      border-bottom-color: var(--fill-color);\n",
              "      border-left-color: var(--fill-color);\n",
              "    }\n",
              "    20% {\n",
              "      border-color: transparent;\n",
              "      border-left-color: var(--fill-color);\n",
              "      border-top-color: var(--fill-color);\n",
              "    }\n",
              "    30% {\n",
              "      border-color: transparent;\n",
              "      border-left-color: var(--fill-color);\n",
              "      border-top-color: var(--fill-color);\n",
              "      border-right-color: var(--fill-color);\n",
              "    }\n",
              "    40% {\n",
              "      border-color: transparent;\n",
              "      border-right-color: var(--fill-color);\n",
              "      border-top-color: var(--fill-color);\n",
              "    }\n",
              "    60% {\n",
              "      border-color: transparent;\n",
              "      border-right-color: var(--fill-color);\n",
              "    }\n",
              "    80% {\n",
              "      border-color: transparent;\n",
              "      border-right-color: var(--fill-color);\n",
              "      border-bottom-color: var(--fill-color);\n",
              "    }\n",
              "    90% {\n",
              "      border-color: transparent;\n",
              "      border-bottom-color: var(--fill-color);\n",
              "    }\n",
              "  }\n",
              "</style>\n",
              "\n",
              "  <script>\n",
              "    async function quickchart(key) {\n",
              "      const quickchartButtonEl =\n",
              "        document.querySelector('#' + key + ' button');\n",
              "      quickchartButtonEl.disabled = true;  // To prevent multiple clicks.\n",
              "      quickchartButtonEl.classList.add('colab-df-spinner');\n",
              "      try {\n",
              "        const charts = await google.colab.kernel.invokeFunction(\n",
              "            'suggestCharts', [key], {});\n",
              "      } catch (error) {\n",
              "        console.error('Error during call to suggestCharts:', error);\n",
              "      }\n",
              "      quickchartButtonEl.classList.remove('colab-df-spinner');\n",
              "      quickchartButtonEl.classList.add('colab-df-quickchart-complete');\n",
              "    }\n",
              "    (() => {\n",
              "      let quickchartButtonEl =\n",
              "        document.querySelector('#df-f29e823e-c564-42e1-ab1c-8c56e91c4c97 button');\n",
              "      quickchartButtonEl.style.display =\n",
              "        google.colab.kernel.accessAllowed ? 'block' : 'none';\n",
              "    })();\n",
              "  </script>\n",
              "</div>\n",
              "    </div>\n",
              "  </div>\n"
            ]
          },
          "metadata": {},
          "execution_count": 19
        }
      ]
    },
    {
      "cell_type": "code",
      "source": [
        "X = feature_df.drop(\"source\", axis=1)\n",
        "cols.remove('source')\n",
        "X = X.loc[:, cols]\n",
        "X = X.to_numpy()"
      ],
      "metadata": {
        "id": "kCjPyyn9qBNI"
      },
      "execution_count": 20,
      "outputs": []
    },
    {
      "cell_type": "code",
      "source": [
        "#euclidean distance\n",
        "\n",
        "batch_size = 10  # Define the batch size\n",
        "num_points = X.shape[0]  # Total number of points\n",
        "num_batches = num_points // batch_size  # Calculate the number of batches\n",
        "\n",
        "XY = X.sum(1)\n",
        "D = np.zeros((num_points, num_points), dtype=np.float16)\n",
        "#D = np.full((num_points, num_points), np.inf)\n",
        "\n",
        "for batch_idx in range(num_batches):\n",
        "    start_idx = batch_idx * batch_size\n",
        "    end_idx = (batch_idx + 1) * batch_size\n",
        "\n",
        "    batch_XY = XY[start_idx:end_idx]\n",
        "\n",
        "    # Compute norms for the current batch\n",
        "    for i in range(batch_XY.shape[0]):\n",
        "        for j in range(batch_XY.shape[0]):\n",
        "            if i==j:\n",
        "                continue\n",
        "            if batch_XY[i] == batch_XY[j]:\n",
        "              idx1, idx2 = find_index(batch_XY[i], batch_XY[j], XY, start_idx, end_idx)\n",
        "              D[idx1][idx2] = 1.0\n",
        "              continue\n",
        "            idx1, idx2 = find_index(batch_XY[i], batch_XY[j], XY, start_idx, end_idx)\n",
        "            D[idx1][idx2] = np.linalg.norm(batch_XY[i] - batch_XY[j])\n",
        "\n",
        "# Handle the remaining points if the total number of points is not divisible by the batch size\n",
        "if num_points % batch_size != 0:\n",
        "    start_idx = num_batches * batch_size\n",
        "    end_idx = XY.shape[0]\n",
        "    batch_XY = XY[start_idx:]\n",
        "\n",
        "    # Compute norms for the remaining points\n",
        "    for i in range(batch_XY.shape[0]):\n",
        "        for j in range(batch_XY.shape[0]):\n",
        "            if i==j:\n",
        "                continue\n",
        "            if batch_XY[i] == batch_XY[j]:\n",
        "              idx1, idx2 = find_index(batch_XY[i], batch_XY[j], XY, start_idx, end_idx)\n",
        "              D[idx1][idx2] = 1.0\n",
        "              continue\n",
        "            idx1, idx2 = find_index(batch_XY[i], batch_XY[j], XY, start_idx, end_idx)\n",
        "            D[idx1][idx2] = np.linalg.norm(batch_XY[i] - batch_XY[j])"
      ],
      "metadata": {
        "id": "jIf_K8NasNqb"
      },
      "execution_count": 21,
      "outputs": []
    },
    {
      "cell_type": "code",
      "source": [
        "D"
      ],
      "metadata": {
        "colab": {
          "base_uri": "https://localhost:8080/"
        },
        "id": "EBP79mvSrrKW",
        "outputId": "e171a538-4a0b-48dd-b064-9668f891d521"
      },
      "execution_count": 22,
      "outputs": [
        {
          "output_type": "execute_result",
          "data": {
            "text/plain": [
              "array([[  0.,  86.,  52., ...,   0.,   0.,   0.],\n",
              "       [ 86.,   0., 138., ...,   0.,   0.,   0.],\n",
              "       [ 52., 138.,   0., ...,   0.,   0.,   0.],\n",
              "       ...,\n",
              "       [  0.,   0.,   0., ...,   0., 147., 371.],\n",
              "       [  0.,   0.,   0., ..., 147.,   0., 224.],\n",
              "       [  0.,   0.,   0., ..., 371., 224.,   0.]], dtype=float16)"
            ]
          },
          "metadata": {},
          "execution_count": 22
        }
      ]
    },
    {
      "cell_type": "code",
      "source": [
        "th = 215  # threshold for determining similarity between nodes on the basis of Euclidean distance\n",
        "\n",
        "batch_size = 1000  # Define the batch size\n",
        "num_points = X.shape[0]  # Total number of points\n",
        "num_batches = num_points // batch_size  # Calculate the number of batches\n",
        "\n",
        "A = csr_matrix((num_points, num_points), dtype=bool)\n",
        "\n",
        "for batch_idx in range(num_batches):\n",
        "    start_idx = batch_idx * batch_size\n",
        "    end_idx = (batch_idx + 1) * batch_size\n",
        "\n",
        "    batch_XY = D[start_idx:end_idx, :]\n",
        "\n",
        "    # Compare for the current batch\n",
        "    A[start_idx:end_idx, :] = csr_matrix(np.logical_and(batch_XY != 0, batch_XY < th))\n",
        "\n",
        "# Handle the remaining points if the total number of points is not divisible by the batch size\n",
        "if num_points % batch_size != 0:\n",
        "    start_idx = num_batches * batch_size\n",
        "    end_idx = XY.shape[0]\n",
        "    batch_XY = D[start_idx:]\n",
        "\n",
        "    # Compare for the remaining points\n",
        "    A[start_idx:, :] = csr_matrix(np.logical_and(batch_XY != 0, batch_XY < th))"
      ],
      "metadata": {
        "id": "nn5V4UGJZszu"
      },
      "execution_count": 26,
      "outputs": []
    },
    {
      "cell_type": "code",
      "source": [
        "A"
      ],
      "metadata": {
        "colab": {
          "base_uri": "https://localhost:8080/"
        },
        "id": "E4Qi925q_zgq",
        "outputId": "195c5282-a9dc-40bc-9fd0-4a6fb3fb65fd"
      },
      "execution_count": 27,
      "outputs": [
        {
          "output_type": "execute_result",
          "data": {
            "text/plain": [
              "<89250x89250 sparse matrix of type '<class 'numpy.bool_'>'\n",
              "\twith 614406 stored elements in Compressed Sparse Row format>"
            ]
          },
          "metadata": {},
          "execution_count": 27
        }
      ]
    },
    {
      "cell_type": "code",
      "source": [
        "G = nx.Graph(A.toarray())   #predicting graph for Euclidean Distance\n",
        "\n",
        "plot_degree_dist(G, 'Euclidean Distance') #using symmetrical log scale for x-axis (refer:- https://matplotlib.org/stable/api/scale_api.html#matplotlib.scale.SymmetricalLogScale)"
      ],
      "metadata": {
        "id": "YWBYQ89hoqj8",
        "colab": {
          "base_uri": "https://localhost:8080/",
          "height": 476
        },
        "outputId": "2e6c79ea-38f4-4ad0-c1d7-2821b14925f5"
      },
      "execution_count": 28,
      "outputs": [
        {
          "output_type": "display_data",
          "data": {
            "text/plain": [
              "<Figure size 640x480 with 1 Axes>"
            ],
            "image/png": "[encoded data removed]"
          },
          "metadata": {}
        }
      ]
    },
    {
      "cell_type": "code",
      "source": [
        "#cosine similarity\n",
        "\n",
        "Cos = np.zeros((X.shape[0], X.shape[0]))\n",
        "#Cos = np.full((num_points, num_points), np.inf)\n",
        "\n",
        "batch_size = 10  # Define the batch size\n",
        "num_points = X.shape[0]  # Total number of points\n",
        "num_batches = num_points // batch_size  # Calculate the number of batches\n",
        "\n",
        "for batch_idx in range(num_batches):\n",
        "    start_idx = batch_idx * batch_size\n",
        "    end_idx = (batch_idx + 1) * batch_size\n",
        "\n",
        "    batch_XY = X[start_idx:end_idx, :]\n",
        "\n",
        "    # Compute cosine similarities for the current batch\n",
        "    for i in range(batch_XY.shape[0]):\n",
        "        for j in range(batch_XY.shape[0]):\n",
        "            if i==j:\n",
        "                continue\n",
        "            idx1, idx2 = compare_find_common(batch_XY[i,:], batch_XY[j,:], X, start_idx, end_idx)\n",
        "            Cos[idx1][idx2] = scipy.spatial.distance.cosine(batch_XY[i, :], batch_XY[j, :])*(-1) + 1\n",
        "            if Cos[idx1][idx2]==0:\n",
        "              Cos[idx1][idx2]=0.13\n",
        "\n",
        "# Handle the remaining points if the total number of points is not divisible by the batch size\n",
        "if num_points % batch_size != 0:\n",
        "    start_idx = num_batches * batch_size\n",
        "    end_idx = XY.shape[0]\n",
        "    batch_XY = X[start_idx:]\n",
        "\n",
        "    # Compute cosine similarities for the remaining points\n",
        "    for i in range(batch_XY.shape[0]):\n",
        "        for j in range(batch_XY.shape[0]):\n",
        "            if i==j:\n",
        "                continue\n",
        "            idx1, idx2 = compare_find_common(batch_XY[i,:], batch_XY[j,:], X, start_idx, end_idx)\n",
        "            Cos[idx1][idx2] = scipy.spatial.distance.cosine(batch_XY[i, :], batch_XY[j, :])*(-1) + 1\n",
        "            if Cos[idx1][idx2]==0:\n",
        "              Cos[idx1][idx2]=0.13"
      ],
      "metadata": {
        "id": "e-KW9mrDoq0x",
        "colab": {
          "base_uri": "https://localhost:8080/"
        },
        "outputId": "aa4d4283-815d-48cf-863c-9c4fdedd8131"
      },
      "execution_count": 29,
      "outputs": [
        {
          "output_type": "stream",
          "name": "stderr",
          "text": [
            "/usr/local/lib/python3.10/dist-packages/scipy/spatial/distance.py:636: RuntimeWarning: invalid value encountered in float_scalars\n",
            "  dist = 1.0 - uv / np.sqrt(uu * vv)\n"
          ]
        }
      ]
    },
    {
      "cell_type": "code",
      "source": [
        "Cos"
      ],
      "metadata": {
        "id": "9kyoqYHzBhkX",
        "colab": {
          "base_uri": "https://localhost:8080/"
        },
        "outputId": "3aa63508-7906-4390-bb4b-c035903a5d2e"
      },
      "execution_count": 30,
      "outputs": [
        {
          "output_type": "execute_result",
          "data": {
            "text/plain": [
              "array([[0.        , 0.43700227, 0.37930918, ..., 0.        , 0.        ,\n",
              "        0.        ],\n",
              "       [0.43700227, 0.        , 0.26768851, ..., 0.        , 0.        ,\n",
              "        0.        ],\n",
              "       [0.37930918, 0.26768851, 0.        , ..., 0.        , 0.        ,\n",
              "        0.        ],\n",
              "       ...,\n",
              "       [0.        , 0.        , 0.        , ..., 0.        , 0.54469723,\n",
              "        0.31315553],\n",
              "       [0.        , 0.        , 0.        , ..., 0.54469723, 0.        ,\n",
              "        0.27001494],\n",
              "       [0.        , 0.        , 0.        , ..., 0.31315553, 0.27001494,\n",
              "        0.        ]])"
            ]
          },
          "metadata": {},
          "execution_count": 30
        }
      ]
    },
    {
      "cell_type": "code",
      "source": [
        "#compute predicted graph using Cosine Similarity\n",
        "th1 = 0.132  #threshold for determining similarity between nodes on basis of Cosine Similarity\n",
        "\n",
        "batch_size = 1000  # Define the batch size\n",
        "num_points = X.shape[0]  # Total number of points\n",
        "num_batches = num_points // batch_size  # Calculate the number of batches\n",
        "\n",
        "A1 = csr_matrix((num_points, num_points), dtype=bool)\n",
        "\n",
        "for batch_idx in range(num_batches):\n",
        "    start_idx = batch_idx * batch_size\n",
        "    end_idx = (batch_idx + 1) * batch_size\n",
        "\n",
        "    batch_XY = Cos[start_idx:end_idx, :]\n",
        "\n",
        "    # Compare for the current batch\n",
        "    A1[start_idx:end_idx, :] = csr_matrix(np.logical_and(batch_XY != 0, batch_XY < th1))\n",
        "\n",
        "# Handle the remaining points if the total number of points is not divisible by the batch size\n",
        "if num_points % batch_size != 0:\n",
        "    start_idx = num_batches * batch_size\n",
        "    end_idx = XY.shape[0]\n",
        "    batch_XY = Cos[start_idx:]\n",
        "\n",
        "    # Compare for the remaining points\n",
        "    A1[start_idx:, :] = csr_matrix(np.logical_and(batch_XY != 0, batch_XY < th1))"
      ],
      "metadata": {
        "id": "E_K__hD_Bhom"
      },
      "execution_count": 34,
      "outputs": []
    },
    {
      "cell_type": "code",
      "source": [
        "A1"
      ],
      "metadata": {
        "colab": {
          "base_uri": "https://localhost:8080/"
        },
        "id": "2-9TZScLDLFe",
        "outputId": "ef1719f9-04c9-4150-8c38-5d831f0c721b"
      },
      "execution_count": 35,
      "outputs": [
        {
          "output_type": "execute_result",
          "data": {
            "text/plain": [
              "<89250x89250 sparse matrix of type '<class 'numpy.bool_'>'\n",
              "\twith 54900 stored elements in Compressed Sparse Row format>"
            ]
          },
          "metadata": {},
          "execution_count": 35
        }
      ]
    },
    {
      "cell_type": "code",
      "source": [
        "G1 = nx.Graph(A1.toarray())   #predicting graph for Cosine Similarity\n",
        "\n",
        "plot_degree_dist(G1, 'Cosine Similarity') #using symmetrical log scale for x-axis (refer:- https://matplotlib.org/stable/api/scale_api.html#matplotlib.scale.SymmetricalLogScale)"
      ],
      "metadata": {
        "id": "b1h8teqkBhsK",
        "colab": {
          "base_uri": "https://localhost:8080/",
          "height": 476
        },
        "outputId": "35da41b9-1172-427c-fd1a-a717d6b1cbce"
      },
      "execution_count": 36,
      "outputs": [
        {
          "output_type": "display_data",
          "data": {
            "text/plain": [
              "<Figure size 640x480 with 1 Axes>"
            ],
            "image/png": "[encoded data removed]"
          },
          "metadata": {}
        }
      ]
    },
    {
      "cell_type": "code",
      "source": [
        "#manhattan distance\n",
        "\n",
        "Man = np.zeros((X.shape[0], X.shape[0]))\n",
        "#Man = np.full((X.shape[0], X.shape[0]), np.inf)\n",
        "\n",
        "batch_size = 10  # Define the batch size\n",
        "num_points = X.shape[0]  # Total number of points\n",
        "num_batches = num_points // batch_size  # Calculate the number of batches\n",
        "\n",
        "for batch_idx in range(num_batches):\n",
        "    start_idx = batch_idx * batch_size\n",
        "    end_idx = (batch_idx + 1) * batch_size\n",
        "\n",
        "    batch_XY = X[start_idx:end_idx, :]\n",
        "\n",
        "    # Compute manhattan distances for the current batch\n",
        "    for i in range(batch_XY.shape[0]):\n",
        "        for j in range(batch_XY.shape[0]):\n",
        "            if i==j:\n",
        "                continue\n",
        "            idx1, idx2 = compare_find_common(batch_XY[i,:], batch_XY[j,:], X, start_idx, end_idx)\n",
        "            Man[idx1][idx2] = sum(np.abs(batch_XY[i, :] - batch_XY[j, :]))\n",
        "            if Man[idx1][idx2]==0:\n",
        "              Man[idx1][idx2]=44\n",
        "\n",
        "# Handle the remaining points if the total number of points is not divisible by the batch size\n",
        "if num_points % batch_size != 0:\n",
        "    start_idx = num_batches * batch_size\n",
        "    end_idx = XY.shape[0]\n",
        "    batch_XY = X[start_idx:]\n",
        "\n",
        "    # Compute manhattan distances for the remaining points\n",
        "    for i in range(batch_XY.shape[0]):\n",
        "        for j in range(batch_XY.shape[0]):\n",
        "            if i==j:\n",
        "                continue\n",
        "            idx1, idx2 = compare_find_common(batch_XY[i,:], batch_XY[j,:], X, start_idx, end_idx)\n",
        "            Man[idx1][idx2] = sum(np.abs(batch_XY[i, :] - batch_XY[j, :]))\n",
        "            if Man[idx1][idx2]==0:\n",
        "              Man[idx1][idx2]=44"
      ],
      "metadata": {
        "id": "PV0ruX2ZBhzn"
      },
      "execution_count": 37,
      "outputs": []
    },
    {
      "cell_type": "code",
      "source": [
        "Man"
      ],
      "metadata": {
        "id": "t6JhQ9JIsWPm",
        "colab": {
          "base_uri": "https://localhost:8080/"
        },
        "outputId": "d50f9951-4b10-4ba9-b863-8255a2cfe6b5"
      },
      "execution_count": 38,
      "outputs": [
        {
          "output_type": "execute_result",
          "data": {
            "text/plain": [
              "array([[  0., 572., 506., ...,   0.,   0.,   0.],\n",
              "       [572.,   0., 636., ...,   0.,   0.,   0.],\n",
              "       [506., 636.,   0., ...,   0.,   0.,   0.],\n",
              "       ...,\n",
              "       [  0.,   0.,   0., ...,   0., 651., 707.],\n",
              "       [  0.,   0.,   0., ..., 651.,   0., 604.],\n",
              "       [  0.,   0.,   0., ..., 707., 604.,   0.]])"
            ]
          },
          "metadata": {},
          "execution_count": 38
        }
      ]
    },
    {
      "cell_type": "code",
      "source": [
        "#compute predicted graph using Manhattan Distance\n",
        "th2 = 501  #threshold for determining similarity between nodes on basis of Manhattan Distance\n",
        "\n",
        "batch_size = 1000  # Define the batch size\n",
        "num_points = X.shape[0]  # Total number of points\n",
        "num_batches = num_points // batch_size  # Calculate the number of batches\n",
        "\n",
        "A2 = csr_matrix((num_points, num_points), dtype=bool)\n",
        "\n",
        "for batch_idx in range(num_batches):\n",
        "    start_idx = batch_idx * batch_size\n",
        "    end_idx = (batch_idx + 1) * batch_size\n",
        "\n",
        "    batch_XY = Man[start_idx:end_idx, :]\n",
        "\n",
        "    # Compare for the current batch\n",
        "    A2[start_idx:end_idx, :] = csr_matrix(np.logical_and(batch_XY != 0, batch_XY < th2))\n",
        "\n",
        "# Handle the remaining points if the total number of points is not divisible by the batch size\n",
        "if num_points % batch_size != 0:\n",
        "    start_idx = num_batches * batch_size\n",
        "    end_idx = XY.shape[0]\n",
        "    batch_XY = Man[start_idx:]\n",
        "\n",
        "    # Compare for the remaining points\n",
        "    A2[start_idx:, :] = csr_matrix(np.logical_and(batch_XY != 0, batch_XY < th2))"
      ],
      "metadata": {
        "id": "cbepTE3V8QMP"
      },
      "execution_count": 39,
      "outputs": []
    },
    {
      "cell_type": "code",
      "source": [
        "A2"
      ],
      "metadata": {
        "colab": {
          "base_uri": "https://localhost:8080/"
        },
        "id": "ThSJ82TSDfBY",
        "outputId": "237501b6-9275-4d6e-ba8b-ec93bf5007e4"
      },
      "execution_count": 40,
      "outputs": [
        {
          "output_type": "execute_result",
          "data": {
            "text/plain": [
              "<89250x89250 sparse matrix of type '<class 'numpy.bool_'>'\n",
              "\twith 193000 stored elements in Compressed Sparse Row format>"
            ]
          },
          "metadata": {},
          "execution_count": 40
        }
      ]
    },
    {
      "cell_type": "code",
      "source": [
        "G2 = nx.Graph(A2.toarray())  #predicting graph for Manhattan Distance\n",
        "\n",
        "plot_degree_dist(G2, 'Manhattan Distance') #using symmetrical log scale for x-axis (refer:- https://matplotlib.org/stable/api/scale_api.html#matplotlib.scale.SymmetricalLogScale)"
      ],
      "metadata": {
        "id": "dv46Boca8QUo",
        "colab": {
          "base_uri": "https://localhost:8080/",
          "height": 476
        },
        "outputId": "9c572b29-a0d4-4539-febb-70c6c58b84f5"
      },
      "execution_count": 41,
      "outputs": [
        {
          "output_type": "display_data",
          "data": {
            "text/plain": [
              "<Figure size 640x480 with 1 Axes>"
            ],
            "image/png": "[encoded data removed]"
          },
          "metadata": {}
        }
      ]
    },
    {
      "cell_type": "code",
      "source": [
        "#hamming distance can also refer netrd documentation: https://netrd.readthedocs.io/en/latest/distance.html#netrd.distance.Hamming\n",
        "\n",
        "thd = 0.6375\n",
        "batch_size = 10  # Define the batch size\n",
        "num_points = X.shape[0]  # Total number of points\n",
        "num_batches = num_points // batch_size  # Calculate the number of batches\n",
        "\n",
        "for batch_idx in range(num_batches):   #set binary strings for features of nodes\n",
        "    start_idx = batch_idx * batch_size\n",
        "    end_idx = (batch_idx + 1) * batch_size\n",
        "\n",
        "    batch_XY = X[start_idx:end_idx, :]\n",
        "    X[start_idx:end_idx] = np.where(batch_XY < thd, 1, 0)\n",
        "\n",
        "# Handle the remaining points if the total number of points is not divisible by the batch size\n",
        "if num_points % batch_size != 0:\n",
        "    start_idx = num_batches * batch_size\n",
        "    end_idx = XY.shape[0]\n",
        "    batch_XY = X[start_idx:]\n",
        "    X[start_idx:] = np.where(batch_XY < thd, 1, 0)"
      ],
      "metadata": {
        "id": "WaL9QGC58Qbn"
      },
      "execution_count": 44,
      "outputs": []
    },
    {
      "cell_type": "code",
      "source": [
        "#compute hamming distance\n",
        "\n",
        "Ham = np.zeros((X.shape[0], X.shape[0]))\n",
        "#Ham = np.full((X.shape[0], X.shape[0]), np.inf)\n",
        "\n",
        "batch_size = 10  # Define the batch size\n",
        "num_points = X.shape[0]  # Total number of points\n",
        "num_batches = num_points // batch_size  # Calculate the number of batches\n",
        "\n",
        "for batch_idx in range(num_batches):\n",
        "    start_idx = batch_idx * batch_size\n",
        "    end_idx = (batch_idx + 1) * batch_size\n",
        "\n",
        "    batch_XY = X[start_idx:end_idx, :]\n",
        "\n",
        "    # Compute hamming distance for the current batch\n",
        "    for i in range(batch_XY.shape[0]):\n",
        "        for j in range(batch_XY.shape[0]):\n",
        "            if i == j:\n",
        "                continue\n",
        "            idx1, idx2 = compare_find_common(batch_XY[i, :], batch_XY[j, :], Ham, start_idx, end_idx)\n",
        "            Ham[idx1][idx2] = np.logical_xor(batch_XY[i, :], batch_XY[j, :]).sum()\n",
        "            if Ham[idx1][idx2]==0:\n",
        "              Ham[idx1][idx2]=35\n",
        "\n",
        "# Handle the remaining points if the total number of points is not divisible by the batch size\n",
        "if num_points % batch_size != 0:\n",
        "    start_idx = num_batches * batch_size\n",
        "    end_idx = XY.shape[0]\n",
        "    batch_XY = X[start_idx:]\n",
        "\n",
        "    # Compute hamming distance for the remaining points\n",
        "    for i in range(batch_XY.shape[0]):\n",
        "        for j in range(batch_XY.shape[0]):\n",
        "            if i == j:\n",
        "                continue\n",
        "            idx1, idx2 = compare_find_common(batch_XY[i, :], batch_XY[j, :], Ham, start_idx, end_idx)\n",
        "            Ham[idx1][idx2] = np.logical_xor(batch_XY[i, :], batch_XY[j, :]).sum()\n",
        "            if Ham[idx1][idx2]==0:\n",
        "              Ham[idx1][idx2]=35"
      ],
      "metadata": {
        "id": "uFf9c01F8Qe_"
      },
      "execution_count": 45,
      "outputs": []
    },
    {
      "cell_type": "code",
      "source": [
        "Ham"
      ],
      "metadata": {
        "id": "ia3tIp0O-Qht",
        "colab": {
          "base_uri": "https://localhost:8080/"
        },
        "outputId": "dc0b9c5c-afbb-4bad-8e6c-bdf65c9b5624"
      },
      "execution_count": 46,
      "outputs": [
        {
          "output_type": "execute_result",
          "data": {
            "text/plain": [
              "array([[244.,   0.,   0., ...,   0.,   0.,   0.],\n",
              "       [  0.,   0.,   0., ...,   0.,   0.,   0.],\n",
              "       [  0.,   0.,   0., ...,   0.,   0.,   0.],\n",
              "       ...,\n",
              "       [  0.,   0.,   0., ...,   0.,   0.,   0.],\n",
              "       [  0.,   0.,   0., ...,   0.,   0.,   0.],\n",
              "       [  0.,   0.,   0., ...,   0.,   0.,   0.]])"
            ]
          },
          "metadata": {},
          "execution_count": 46
        }
      ]
    },
    {
      "cell_type": "code",
      "source": [
        "#compute predicted graph using Hamming Distance\n",
        "th3 = 251  #threshold for determining similarity between nodes on basis of Hamming Distance\n",
        "\n",
        "batch_size = 1000  # Define the batch size\n",
        "num_points = X.shape[0]  # Total number of points\n",
        "num_batches = num_points // batch_size  # Calculate the number of batches\n",
        "\n",
        "A3 = csr_matrix((num_points, num_points), dtype=bool)\n",
        "\n",
        "for batch_idx in range(num_batches):\n",
        "    start_idx = batch_idx * batch_size\n",
        "    end_idx = (batch_idx + 1) * batch_size\n",
        "\n",
        "    batch_XY = Ham[start_idx:end_idx, :]\n",
        "\n",
        "    # Compare for the current batch\n",
        "    A3[start_idx:end_idx, :] = csr_matrix(np.logical_and(batch_XY != 0, batch_XY < th3))\n",
        "\n",
        "# Handle the remaining points if the total number of points is not divisible by the batch size\n",
        "if num_points % batch_size != 0:\n",
        "    start_idx = num_batches * batch_size\n",
        "    end_idx = XY.shape[0]\n",
        "    batch_XY = Ham[start_idx:]\n",
        "\n",
        "    # Compare for the remaining points\n",
        "    A3[start_idx:end_idx, :] = csr_matrix(np.logical_and(batch_XY != 0, batch_XY < th3))"
      ],
      "metadata": {
        "id": "smsLCOoj-paW"
      },
      "execution_count": 51,
      "outputs": []
    },
    {
      "cell_type": "code",
      "source": [
        "A3"
      ],
      "metadata": {
        "colab": {
          "base_uri": "https://localhost:8080/"
        },
        "id": "gJWFIEZqEdr2",
        "outputId": "53baa2ac-2bad-4823-c9dc-849b192be30d"
      },
      "execution_count": 52,
      "outputs": [
        {
          "output_type": "execute_result",
          "data": {
            "text/plain": [
              "<89250x89250 sparse matrix of type '<class 'numpy.bool_'>'\n",
              "\twith 1 stored elements in Compressed Sparse Row format>"
            ]
          },
          "metadata": {},
          "execution_count": 52
        }
      ]
    },
    {
      "cell_type": "code",
      "source": [
        "G3 = nx.Graph(A3.toarray())  #predicting graph for Hamming Distance\n",
        "\n",
        "plot_degree_dist(G3, 'Hamming Distance') #using symmetrical log scale for x-axis (refer:- https://matplotlib.org/stable/api/scale_api.html#matplotlib.scale.SymmetricalLogScale)"
      ],
      "metadata": {
        "id": "0KI_tW0w-pdr",
        "colab": {
          "base_uri": "https://localhost:8080/",
          "height": 448
        },
        "outputId": "2bbb17a3-efd4-4c76-a119-6f08356527e4"
      },
      "execution_count": 53,
      "outputs": [
        {
          "output_type": "display_data",
          "data": {
            "text/plain": [
              "<Figure size 640x480 with 1 Axes>"
            ],
            "image/png": "[encoded data removed]"
          },
          "metadata": {}
        }
      ]
    },
    {
      "cell_type": "code",
      "source": [
        "G_true  #actual(Ground truth value) graph estimated from the dataset"
      ],
      "metadata": {
        "id": "kccdBE0A-Qk4",
        "colab": {
          "base_uri": "https://localhost:8080/"
        },
        "outputId": "0b2a17f2-a66a-45db-9c22-cc9d9152dc96"
      },
      "execution_count": 54,
      "outputs": [
        {
          "output_type": "execute_result",
          "data": {
            "text/plain": [
              "<networkx.classes.graph.Graph at 0x7c27c57dca00>"
            ]
          },
          "metadata": {},
          "execution_count": 54
        }
      ]
    },
    {
      "cell_type": "code",
      "source": [
        "#For Jaccard distance refer: https://netrd.readthedocs.io/en/latest/distance.html#netrd.distance.JaccardDistance\n",
        "\n",
        "obj = netrd.distance.JaccardDistance()\n",
        "#corresponding jaccard distance comparsions between predicted and ground truth\n",
        "y = obj.dist(G, G_true) #euclidean distance\n",
        "y_1 = obj.dist(G1, G_true) #cosine similarity\n",
        "y_2 = obj.dist(G2, G_true) #manhattan distance\n",
        "y_3 = obj.dist(G3, G_true) #hamming distance\n",
        "\n",
        "print(\"***Jaccard Similarity Summary***\")\n",
        "print(\"1) Ground truth vs estimated (Euclidean):- \",y)\n",
        "print(\"2) Ground truth vs estimated (Cosine):- \",y_1)\n",
        "print(\"3) Ground truth vs estimated (Manhattan):- \",y_2)\n",
        "print(\"4) Ground truth vs estimated (Hamming):- \",y_3)\n",
        "\n",
        "l_jacc = [y, y_1, y_2, y_3]"
      ],
      "metadata": {
        "colab": {
          "base_uri": "https://localhost:8080/"
        },
        "id": "qm3J49ejNOg_",
        "outputId": "75ceb561-0947-49ff-e65f-7abcafb27852"
      },
      "execution_count": 55,
      "outputs": [
        {
          "output_type": "stream",
          "name": "stdout",
          "text": [
            "***Jaccard Similarity Summary***\n",
            "1) Ground truth vs estimated (Euclidean):-  0.9990843280591306\n",
            "2) Ground truth vs estimated (Cosine):-  0.9996588851667527\n",
            "3) Ground truth vs estimated (Manhattan):-  0.9994545057822387\n",
            "4) Ground truth vs estimated (Hamming):-  1.0\n"
          ]
        }
      ]
    },
    {
      "cell_type": "code",
      "source": [
        "#jensen shannon divergence\n",
        "#*******given below******* link:- https://netrd.readthedocs.io/en/latest/distance.html\n",
        "\n",
        "#compute js divergence between predicted and groud truth\n",
        "obj1 = netrd.distance.DegreeDivergence()\n",
        "jsdy = obj1.dist(G, G_true) #euclidean distance\n",
        "jsdy_1 = obj1.dist(G1, G_true) #cosine similarity\n",
        "jsdy_2 = obj1.dist(G2, G_true) #manhattan distance\n",
        "jsdy_3 = obj1.dist(G3, G_true) #hamming distance\n",
        "\n",
        "print(\"***Jensen Shannon Similarity Summary***\")\n",
        "print(\"1) Ground truth vs estimated (Euclidean):- \",jsdy)\n",
        "print(\"2) Ground truth vs estimated (Cosine):- \",jsdy_1)\n",
        "print(\"3) Ground truth vs estimated (Manhattan):- \",jsdy_2)\n",
        "print(\"4) Ground truth vs estimated (Hamming):- \",jsdy_3)\n",
        "\n",
        "l_js = [jsdy, jsdy_1, jsdy_2, jsdy_3]"
      ],
      "metadata": {
        "colab": {
          "base_uri": "https://localhost:8080/"
        },
        "id": "vR9VIlizNOlr",
        "outputId": "9b091214-77de-4ad6-87d8-3584041a01dd"
      },
      "execution_count": 56,
      "outputs": [
        {
          "output_type": "stream",
          "name": "stdout",
          "text": [
            "***Jensen Shannon Similarity Summary***\n",
            "1) Ground truth vs estimated (Euclidean):-  0.7572946503144214\n",
            "2) Ground truth vs estimated (Cosine):-  0.503466525704134\n",
            "3) Ground truth vs estimated (Manhattan):-  0.33996797592718175\n",
            "4) Ground truth vs estimated (Hamming):-  1.0719845805066743\n"
          ]
        }
      ]
    },
    {
      "cell_type": "code",
      "source": [
        "#graph node signature distribution similarity\n",
        "#reference: https://netrd.readthedocs.io/en/latest/distance.html#netrd.distance.NetSimile\n",
        "\n",
        "obj2 = netrd.distance.NetSimile()\n",
        "nsy = obj2.dist(G, G_true) #euclidean distance\n",
        "nsy_1 = obj2.dist(G1, G_true) #cosine similarity\n",
        "nsy_2 = obj2.dist(G2, G_true) #manhattan distance\n",
        "nsy_3 = obj2.dist(G3, G_true) #hamming distance\n",
        "\n",
        "print(\"***Graph Node Signature Distribution Similarity Summary***\")\n",
        "print(\"1) Ground truth vs estimated (Euclidean):- \",nsy)\n",
        "print(\"2) Ground truth vs estimated (Cosine):- \",nsy_1)\n",
        "print(\"3) Ground truth vs estimated (Manhattan):- \",nsy_2)\n",
        "print(\"4) Ground truth vs estimated (Hamming):- \",nsy_3)\n",
        "\n",
        "l_ns = [nsy, nsy_1, nsy_2, nsy_3]"
      ],
      "metadata": {
        "colab": {
          "base_uri": "https://localhost:8080/"
        },
        "id": "fX3Yny6XNDtS",
        "outputId": "bcbbb32d-ccec-443f-e1cf-62832602bec1"
      },
      "execution_count": 57,
      "outputs": [
        {
          "output_type": "stream",
          "name": "stderr",
          "text": [
            "/usr/local/lib/python3.10/dist-packages/numpy/core/fromnumeric.py:3432: RuntimeWarning: Mean of empty slice.\n",
            "  return _methods._mean(a, axis=axis, dtype=dtype,\n",
            "/usr/local/lib/python3.10/dist-packages/numpy/core/_methods.py:190: RuntimeWarning: invalid value encountered in double_scalars\n",
            "  ret = ret.dtype.type(ret / rcount)\n"
          ]
        },
        {
          "output_type": "stream",
          "name": "stdout",
          "text": [
            "***Graph Node Signature Distribution Similarity Summary***\n",
            "1) Ground truth vs estimated (Euclidean):-  28.50073878077859\n",
            "2) Ground truth vs estimated (Cosine):-  24.55491244003323\n",
            "3) Ground truth vs estimated (Manhattan):-  26.635187315675086\n",
            "4) Ground truth vs estimated (Hamming):-  22.775856152145135\n"
          ]
        }
      ]
    },
    {
      "cell_type": "code",
      "source": [
        "#Onion distance between graphs based on their adjacency matrices\n",
        "#reference: https://netrd.readthedocs.io/en/latest/distance.html#netrd.distance.OnionDivergence\n",
        "\n",
        "obj3 = netrd.distance.OnionDivergence()\n",
        "froby = obj3.dist(G, G_true) #euclidean distance\n",
        "froby_1 = obj3.dist(G1, G_true) #cosine similarity\n",
        "froby_2 = obj3.dist(G2, G_true) #manhattan distance\n",
        "froby_3 = obj3.dist(G3, G_true) #hamming distance\n",
        "\n",
        "print(\"***Onion Distance Similarity Summary***\")\n",
        "print(\"1) Ground truth vs estimated (Euclidean):- \",froby)\n",
        "print(\"2) Ground truth vs estimated (Cosine):- \",froby_1)\n",
        "print(\"3) Ground truth vs estimated (Manhattan):- \",froby_2)\n",
        "print(\"4) Ground truth vs estimated (Hamming):- \",froby_3)\n",
        "\n",
        "l_frob = [froby, froby_1, froby_2, froby_3]"
      ],
      "metadata": {
        "colab": {
          "base_uri": "https://localhost:8080/"
        },
        "id": "dC9Dh6UlX8ms",
        "outputId": "97070385-0dbd-4be6-dab5-f1ec841bd298"
      },
      "execution_count": 58,
      "outputs": [
        {
          "output_type": "stream",
          "name": "stdout",
          "text": [
            "***Onion Distance Similarity Summary***\n",
            "1) Ground truth vs estimated (Euclidean):-  0.9941687181227138\n",
            "2) Ground truth vs estimated (Cosine):-  0.9454560536708042\n",
            "3) Ground truth vs estimated (Manhattan):-  0.9351878042977654\n",
            "4) Ground truth vs estimated (Hamming):-  0.5000000000000691\n"
          ]
        }
      ]
    },
    {
      "cell_type": "code",
      "source": [
        "m1 = max(l_jacc)\n",
        "m2 = min(l_js)\n",
        "m3 = min(l_ns)\n",
        "m4 = min(l_frob)\n",
        "l1 = find_index(m1, None, l_jacc, 0, 4)\n",
        "l2 = find_index(m2, None, l_js, 0, 4)\n",
        "l3 = find_index(m3, None, l_ns, 0, 4)\n",
        "l4 = find_index(m4, None, l_frob, 0, 4)\n",
        "i = convert(l1[0])  #closer graph metric as per Jaccard similarity\n",
        "j = convert(l2[0])  #closer graph metric as per JS divergence similarity\n",
        "k = convert(l3[0])  #closer graph metric as per Node Signature similarity\n",
        "l = convert(l4[0])  #closer graph metric as per Onion Degree Divergence similarity"
      ],
      "metadata": {
        "colab": {
          "base_uri": "https://localhost:8080/"
        },
        "id": "fIOM7seuNOoJ",
        "outputId": "4e252912-2104-4550-f882-78e48dfb4ee0"
      },
      "execution_count": 59,
      "outputs": [
        {
          "output_type": "stream",
          "name": "stdout",
          "text": [
            "Hamming Distance\n",
            "Manhattan Distance\n",
            "Hamming Distance\n",
            "Hamming Distance\n"
          ]
        }
      ]
    },
    {
      "cell_type": "code",
      "source": [
        "'''\n",
        "TODO1 : Till the work done above, summarise all your readings and observations for\n",
        "each dataset in the form of a table. Justify them using values obtained\n",
        "(5 tables for 5 datasets)\n",
        "\n",
        "TODO2: For each dataset, generate its descriptive statistics (number of nodes,\n",
        "number of node features, etc) (5 tables for 5 datasets)\n",
        "'''"
      ],
      "metadata": {
        "id": "aHbJ9BTRVNeW",
        "colab": {
          "base_uri": "https://localhost:8080/",
          "height": 70
        },
        "outputId": "ec0ca09d-d3dc-4dc4-8833-cc5c0f6c7037"
      },
      "execution_count": 60,
      "outputs": [
        {
          "output_type": "execute_result",
          "data": {
            "text/plain": [
              "'\\nTODO1 : Till the work done above, summarise all your readings and observations for\\neach dataset in the form of a table. Justify them using values obtained\\n(5 tables for 5 datasets)\\n\\nTODO2: For each dataset, generate its descriptive statistics (number of nodes,\\nnumber of node features, etc) (5 tables for 5 datasets)\\n'"
            ],
            "application/vnd.google.colaboratory.intrinsic+json": {
              "type": "string"
            }
          },
          "metadata": {},
          "execution_count": 60
        }
      ]
    },
    {
      "cell_type": "code",
      "source": [
        "report = pd.DataFrame(index = ['Euclidean Distance', 'Cosine Similarity', 'Manhattan Distance', 'Hamming Distance'])\n",
        "report['Jaccard Distance'] = l_jacc\n",
        "report['JS Divergence'] = l_js\n",
        "report['Netsimile Divergence'] = l_ns\n",
        "report['Onion Divergence'] = l_frob\n",
        "report['Threshold Value'] = [th, th1, th2, th3]\n",
        "report['Hamming Threshold'] = [0, 0, 0, thd]\n",
        "\n",
        "final_results = pd.DataFrame(index = ['Euclidean Distance', 'Cosine Similarity', 'Manhattan Distance', 'Hamming Distance'])\n",
        "final_results['Jaccard Distance'] = ['Not Close: {}'.format(l_jacc[0]), 'Not Close: {}'.format(l_jacc[1]), 'Not Close: {}'.format(l_jacc[2]), 'Not Close: {}'.format(l_jacc[3])]\n",
        "final_results['JS Divergence'] = ['Not Close: {}'.format(l_js[0]), 'Not Close: {}'.format(l_js[1]), 'Not Close: {}'.format(l_js[2]), 'Not Close: {}'.format(l_js[3])]\n",
        "final_results['Netsimile Divergence'] = ['Not Close: {}'.format(l_ns[0]), 'Not Close: {}'.format(l_ns[1]), 'Not Close: {}'.format(l_ns[2]), 'Not Close: {}'.format(l_ns[3])]\n",
        "final_results['Onion Divergence'] = ['Not Close: {}'.format(l_frob[0]), 'Not Close: {}'.format(l_frob[1]), 'Not Close: {}'.format(l_frob[2]), 'Not Close: {}'.format(l_frob[3])]\n",
        "final_results['Jaccard Distance'][i] = 'Close: {}'.format(m1)\n",
        "final_results['JS Divergence'][j] = 'Close: {}'.format(m2)\n",
        "final_results['Netsimile Divergence'][k] = 'Close: {}'.format(m3)\n",
        "final_results['Onion Divergence'][l] = 'Close: {}'.format(m4)\n"
      ],
      "metadata": {
        "id": "LjEhYfqQa1Ne"
      },
      "execution_count": 61,
      "outputs": []
    },
    {
      "cell_type": "code",
      "source": [
        "report #printing report"
      ],
      "metadata": {
        "colab": {
          "base_uri": "https://localhost:8080/",
          "height": 175
        },
        "id": "0J0tIxYcfGwR",
        "outputId": "30b980f3-0f41-4198-846b-44ca81c184fa"
      },
      "execution_count": 62,
      "outputs": [
        {
          "output_type": "execute_result",
          "data": {
            "text/plain": [
              "                    Jaccard Distance  JS Divergence  Netsimile Divergence  \\\n",
              "Euclidean Distance          0.999084       0.757295             28.500739   \n",
              "Cosine Similarity           0.999659       0.503467             24.554912   \n",
              "Manhattan Distance          0.999455       0.339968             26.635187   \n",
              "Hamming Distance            1.000000       1.071985             22.775856   \n",
              "\n",
              "                    Onion Divergence  Threshold Value  Hamming Threshold  \n",
              "Euclidean Distance          0.994169          215.000             0.0000  \n",
              "Cosine Similarity           0.945456            0.132             0.0000  \n",
              "Manhattan Distance          0.935188          501.000             0.0000  \n",
              "Hamming Distance            0.500000          251.000             0.6375  "
            ],
            "text/html": [
              "\n",
              "  <div id=\"df-d8794e76-f387-43bd-bb9e-fcc9c8274ec1\" class=\"colab-df-container\">\n",
              "    <div>\n",
              "<style scoped>\n",
              "    .dataframe tbody tr th:only-of-type {\n",
              "        vertical-align: middle;\n",
              "    }\n",
              "\n",
              "    .dataframe tbody tr th {\n",
              "        vertical-align: top;\n",
              "    }\n",
              "\n",
              "    .dataframe thead th {\n",
              "        text-align: right;\n",
              "    }\n",
              "</style>\n",
              "<table border=\"1\" class=\"dataframe\">\n",
              "  <thead>\n",
              "    <tr style=\"text-align: right;\">\n",
              "      <th></th>\n",
              "      <th>Jaccard Distance</th>\n",
              "      <th>JS Divergence</th>\n",
              "      <th>Netsimile Divergence</th>\n",
              "      <th>Onion Divergence</th>\n",
              "      <th>Threshold Value</th>\n",
              "      <th>Hamming Threshold</th>\n",
              "    </tr>\n",
              "  </thead>\n",
              "  <tbody>\n",
              "    <tr>\n",
              "      <th>Euclidean Distance</th>\n",
              "      <td>0.999084</td>\n",
              "      <td>0.757295</td>\n",
              "      <td>28.500739</td>\n",
              "      <td>0.994169</td>\n",
              "      <td>215.000</td>\n",
              "      <td>0.0000</td>\n",
              "    </tr>\n",
              "    <tr>\n",
              "      <th>Cosine Similarity</th>\n",
              "      <td>0.999659</td>\n",
              "      <td>0.503467</td>\n",
              "      <td>24.554912</td>\n",
              "      <td>0.945456</td>\n",
              "      <td>0.132</td>\n",
              "      <td>0.0000</td>\n",
              "    </tr>\n",
              "    <tr>\n",
              "      <th>Manhattan Distance</th>\n",
              "      <td>0.999455</td>\n",
              "      <td>0.339968</td>\n",
              "      <td>26.635187</td>\n",
              "      <td>0.935188</td>\n",
              "      <td>501.000</td>\n",
              "      <td>0.0000</td>\n",
              "    </tr>\n",
              "    <tr>\n",
              "      <th>Hamming Distance</th>\n",
              "      <td>1.000000</td>\n",
              "      <td>1.071985</td>\n",
              "      <td>22.775856</td>\n",
              "      <td>0.500000</td>\n",
              "      <td>251.000</td>\n",
              "      <td>0.6375</td>\n",
              "    </tr>\n",
              "  </tbody>\n",
              "</table>\n",
              "</div>\n",
              "    <div class=\"colab-df-buttons\">\n",
              "\n",
              "  <div class=\"colab-df-container\">\n",
              "    <button class=\"colab-df-convert\" onclick=\"convertToInteractive('df-d8794e76-f387-43bd-bb9e-fcc9c8274ec1')\"\n",
              "            title=\"Convert this dataframe to an interactive table.\"\n",
              "            style=\"display:none;\">\n",
              "\n",
              "  <svg xmlns=\"http://www.w3.org/2000/svg\" height=\"24px\" viewBox=\"0 -960 960 960\">\n",
              "    <path d=\"M120-120v-720h720v720H120Zm60-500h600v-160H180v160Zm220 220h160v-160H400v160Zm0 220h160v-160H400v160ZM180-400h160v-160H180v160Zm440 0h160v-160H620v160ZM180-180h160v-160H180v160Zm440 0h160v-160H620v160Z\"/>\n",
              "  </svg>\n",
              "    </button>\n",
              "\n",
              "  <style>\n",
              "    .colab-df-container {\n",
              "      display:flex;\n",
              "      gap: 12px;\n",
              "    }\n",
              "\n",
              "    .colab-df-convert {\n",
              "      background-color: #E8F0FE;\n",
              "      border: none;\n",
              "      border-radius: 50%;\n",
              "      cursor: pointer;\n",
              "      display: none;\n",
              "      fill: #1967D2;\n",
              "      height: 32px;\n",
              "      padding: 0 0 0 0;\n",
              "      width: 32px;\n",
              "    }\n",
              "\n",
              "    .colab-df-convert:hover {\n",
              "      background-color: #E2EBFA;\n",
              "      box-shadow: 0px 1px 2px rgba(60, 64, 67, 0.3), 0px 1px 3px 1px rgba(60, 64, 67, 0.15);\n",
              "      fill: #174EA6;\n",
              "    }\n",
              "\n",
              "    .colab-df-buttons div {\n",
              "      margin-bottom: 4px;\n",
              "    }\n",
              "\n",
              "    [theme=dark] .colab-df-convert {\n",
              "      background-color: #3B4455;\n",
              "      fill: #D2E3FC;\n",
              "    }\n",
              "\n",
              "    [theme=dark] .colab-df-convert:hover {\n",
              "      background-color: #434B5C;\n",
              "      box-shadow: 0px 1px 3px 1px rgba(0, 0, 0, 0.15);\n",
              "      filter: drop-shadow(0px 1px 2px rgba(0, 0, 0, 0.3));\n",
              "      fill: #FFFFFF;\n",
              "    }\n",
              "  </style>\n",
              "\n",
              "    <script>\n",
              "      const buttonEl =\n",
              "        document.querySelector('#df-d8794e76-f387-43bd-bb9e-fcc9c8274ec1 button.colab-df-convert');\n",
              "      buttonEl.style.display =\n",
              "        google.colab.kernel.accessAllowed ? 'block' : 'none';\n",
              "\n",
              "      async function convertToInteractive(key) {\n",
              "        const element = document.querySelector('#df-d8794e76-f387-43bd-bb9e-fcc9c8274ec1');\n",
              "        const dataTable =\n",
              "          await google.colab.kernel.invokeFunction('convertToInteractive',\n",
              "                                                    [key], {});\n",
              "        if (!dataTable) return;\n",
              "\n",
              "        const docLinkHtml = 'Like what you see? Visit the ' +\n",
              "          '<a target=\"_blank\" href=https://colab.research.google.com/notebooks/data_table.ipynb>data table notebook</a>'\n",
              "          + ' to learn more about interactive tables.';\n",
              "        element.innerHTML = '';\n",
              "        dataTable['output_type'] = 'display_data';\n",
              "        await google.colab.output.renderOutput(dataTable, element);\n",
              "        const docLink = document.createElement('div');\n",
              "        docLink.innerHTML = docLinkHtml;\n",
              "        element.appendChild(docLink);\n",
              "      }\n",
              "    </script>\n",
              "  </div>\n",
              "\n",
              "\n",
              "<div id=\"df-c0110adc-b112-4c44-ac20-42ae3d105b1d\">\n",
              "  <button class=\"colab-df-quickchart\" onclick=\"quickchart('df-c0110adc-b112-4c44-ac20-42ae3d105b1d')\"\n",
              "            title=\"Suggest charts.\"\n",
              "            style=\"display:none;\">\n",
              "\n",
              "<svg xmlns=\"http://www.w3.org/2000/svg\" height=\"24px\"viewBox=\"0 0 24 24\"\n",
              "     width=\"24px\">\n",
              "    <g>\n",
              "        <path d=\"M19 3H5c-1.1 0-2 .9-2 2v14c0 1.1.9 2 2 2h14c1.1 0 2-.9 2-2V5c0-1.1-.9-2-2-2zM9 17H7v-7h2v7zm4 0h-2V7h2v10zm4 0h-2v-4h2v4z\"/>\n",
              "    </g>\n",
              "</svg>\n",
              "  </button>\n",
              "\n",
              "<style>\n",
              "  .colab-df-quickchart {\n",
              "      --bg-color: #E8F0FE;\n",
              "      --fill-color: #1967D2;\n",
              "      --hover-bg-color: #E2EBFA;\n",
              "      --hover-fill-color: #174EA6;\n",
              "      --disabled-fill-color: #AAA;\n",
              "      --disabled-bg-color: #DDD;\n",
              "  }\n",
              "\n",
              "  [theme=dark] .colab-df-quickchart {\n",
              "      --bg-color: #3B4455;\n",
              "      --fill-color: #D2E3FC;\n",
              "      --hover-bg-color: #434B5C;\n",
              "      --hover-fill-color: #FFFFFF;\n",
              "      --disabled-bg-color: #3B4455;\n",
              "      --disabled-fill-color: #666;\n",
              "  }\n",
              "\n",
              "  .colab-df-quickchart {\n",
              "    background-color: var(--bg-color);\n",
              "    border: none;\n",
              "    border-radius: 50%;\n",
              "    cursor: pointer;\n",
              "    display: none;\n",
              "    fill: var(--fill-color);\n",
              "    height: 32px;\n",
              "    padding: 0;\n",
              "    width: 32px;\n",
              "  }\n",
              "\n",
              "  .colab-df-quickchart:hover {\n",
              "    background-color: var(--hover-bg-color);\n",
              "    box-shadow: 0 1px 2px rgba(60, 64, 67, 0.3), 0 1px 3px 1px rgba(60, 64, 67, 0.15);\n",
              "    fill: var(--button-hover-fill-color);\n",
              "  }\n",
              "\n",
              "  .colab-df-quickchart-complete:disabled,\n",
              "  .colab-df-quickchart-complete:disabled:hover {\n",
              "    background-color: var(--disabled-bg-color);\n",
              "    fill: var(--disabled-fill-color);\n",
              "    box-shadow: none;\n",
              "  }\n",
              "\n",
              "  .colab-df-spinner {\n",
              "    border: 2px solid var(--fill-color);\n",
              "    border-color: transparent;\n",
              "    border-bottom-color: var(--fill-color);\n",
              "    animation:\n",
              "      spin 1s steps(1) infinite;\n",
              "  }\n",
              "\n",
              "  @keyframes spin {\n",
              "    0% {\n",
              "      border-color: transparent;\n",
              "      border-bottom-color: var(--fill-color);\n",
              "      border-left-color: var(--fill-color);\n",
              "    }\n",
              "    20% {\n",
              "      border-color: transparent;\n",
              "      border-left-color: var(--fill-color);\n",
              "      border-top-color: var(--fill-color);\n",
              "    }\n",
              "    30% {\n",
              "      border-color: transparent;\n",
              "      border-left-color: var(--fill-color);\n",
              "      border-top-color: var(--fill-color);\n",
              "      border-right-color: var(--fill-color);\n",
              "    }\n",
              "    40% {\n",
              "      border-color: transparent;\n",
              "      border-right-color: var(--fill-color);\n",
              "      border-top-color: var(--fill-color);\n",
              "    }\n",
              "    60% {\n",
              "      border-color: transparent;\n",
              "      border-right-color: var(--fill-color);\n",
              "    }\n",
              "    80% {\n",
              "      border-color: transparent;\n",
              "      border-right-color: var(--fill-color);\n",
              "      border-bottom-color: var(--fill-color);\n",
              "    }\n",
              "    90% {\n",
              "      border-color: transparent;\n",
              "      border-bottom-color: var(--fill-color);\n",
              "    }\n",
              "  }\n",
              "</style>\n",
              "\n",
              "  <script>\n",
              "    async function quickchart(key) {\n",
              "      const quickchartButtonEl =\n",
              "        document.querySelector('#' + key + ' button');\n",
              "      quickchartButtonEl.disabled = true;  // To prevent multiple clicks.\n",
              "      quickchartButtonEl.classList.add('colab-df-spinner');\n",
              "      try {\n",
              "        const charts = await google.colab.kernel.invokeFunction(\n",
              "            'suggestCharts', [key], {});\n",
              "      } catch (error) {\n",
              "        console.error('Error during call to suggestCharts:', error);\n",
              "      }\n",
              "      quickchartButtonEl.classList.remove('colab-df-spinner');\n",
              "      quickchartButtonEl.classList.add('colab-df-quickchart-complete');\n",
              "    }\n",
              "    (() => {\n",
              "      let quickchartButtonEl =\n",
              "        document.querySelector('#df-c0110adc-b112-4c44-ac20-42ae3d105b1d button');\n",
              "      quickchartButtonEl.style.display =\n",
              "        google.colab.kernel.accessAllowed ? 'block' : 'none';\n",
              "    })();\n",
              "  </script>\n",
              "</div>\n",
              "    </div>\n",
              "  </div>\n"
            ]
          },
          "metadata": {},
          "execution_count": 62
        }
      ]
    },
    {
      "cell_type": "code",
      "source": [
        "final_results #printing final observations"
      ],
      "metadata": {
        "colab": {
          "base_uri": "https://localhost:8080/",
          "height": 175
        },
        "id": "53QHP6sGgLZ0",
        "outputId": "511a20a2-0023-4838-c59e-945e0fd08627"
      },
      "execution_count": 63,
      "outputs": [
        {
          "output_type": "execute_result",
          "data": {
            "text/plain": [
              "                                 Jaccard Distance  \\\n",
              "Euclidean Distance  Not Close: 0.9990843280591306   \n",
              "Cosine Similarity   Not Close: 0.9996588851667527   \n",
              "Manhattan Distance  Not Close: 0.9994545057822387   \n",
              "Hamming Distance                       Close: 1.0   \n",
              "\n",
              "                                    JS Divergence  \\\n",
              "Euclidean Distance  Not Close: 0.7572946503144214   \n",
              "Cosine Similarity    Not Close: 0.503466525704134   \n",
              "Manhattan Distance     Close: 0.33996797592718175   \n",
              "Hamming Distance    Not Close: 1.0719845805066743   \n",
              "\n",
              "                             Netsimile Divergence  \\\n",
              "Euclidean Distance   Not Close: 28.50073878077859   \n",
              "Cosine Similarity    Not Close: 24.55491244003323   \n",
              "Manhattan Distance  Not Close: 26.635187315675086   \n",
              "Hamming Distance        Close: 22.775856152145135   \n",
              "\n",
              "                                 Onion Divergence  \n",
              "Euclidean Distance  Not Close: 0.9941687181227138  \n",
              "Cosine Similarity   Not Close: 0.9454560536708042  \n",
              "Manhattan Distance  Not Close: 0.9351878042977654  \n",
              "Hamming Distance        Close: 0.5000000000000691  "
            ],
            "text/html": [
              "\n",
              "  <div id=\"df-612c896a-4070-4602-a860-41c223fb52a3\" class=\"colab-df-container\">\n",
              "    <div>\n",
              "<style scoped>\n",
              "    .dataframe tbody tr th:only-of-type {\n",
              "        vertical-align: middle;\n",
              "    }\n",
              "\n",
              "    .dataframe tbody tr th {\n",
              "        vertical-align: top;\n",
              "    }\n",
              "\n",
              "    .dataframe thead th {\n",
              "        text-align: right;\n",
              "    }\n",
              "</style>\n",
              "<table border=\"1\" class=\"dataframe\">\n",
              "  <thead>\n",
              "    <tr style=\"text-align: right;\">\n",
              "      <th></th>\n",
              "      <th>Jaccard Distance</th>\n",
              "      <th>JS Divergence</th>\n",
              "      <th>Netsimile Divergence</th>\n",
              "      <th>Onion Divergence</th>\n",
              "    </tr>\n",
              "  </thead>\n",
              "  <tbody>\n",
              "    <tr>\n",
              "      <th>Euclidean Distance</th>\n",
              "      <td>Not Close: 0.9990843280591306</td>\n",
              "      <td>Not Close: 0.7572946503144214</td>\n",
              "      <td>Not Close: 28.50073878077859</td>\n",
              "      <td>Not Close: 0.9941687181227138</td>\n",
              "    </tr>\n",
              "    <tr>\n",
              "      <th>Cosine Similarity</th>\n",
              "      <td>Not Close: 0.9996588851667527</td>\n",
              "      <td>Not Close: 0.503466525704134</td>\n",
              "      <td>Not Close: 24.55491244003323</td>\n",
              "      <td>Not Close: 0.9454560536708042</td>\n",
              "    </tr>\n",
              "    <tr>\n",
              "      <th>Manhattan Distance</th>\n",
              "      <td>Not Close: 0.9994545057822387</td>\n",
              "      <td>Close: 0.33996797592718175</td>\n",
              "      <td>Not Close: 26.635187315675086</td>\n",
              "      <td>Not Close: 0.9351878042977654</td>\n",
              "    </tr>\n",
              "    <tr>\n",
              "      <th>Hamming Distance</th>\n",
              "      <td>Close: 1.0</td>\n",
              "      <td>Not Close: 1.0719845805066743</td>\n",
              "      <td>Close: 22.775856152145135</td>\n",
              "      <td>Close: 0.5000000000000691</td>\n",
              "    </tr>\n",
              "  </tbody>\n",
              "</table>\n",
              "</div>\n",
              "    <div class=\"colab-df-buttons\">\n",
              "\n",
              "  <div class=\"colab-df-container\">\n",
              "    <button class=\"colab-df-convert\" onclick=\"convertToInteractive('df-612c896a-4070-4602-a860-41c223fb52a3')\"\n",
              "            title=\"Convert this dataframe to an interactive table.\"\n",
              "            style=\"display:none;\">\n",
              "\n",
              "  <svg xmlns=\"http://www.w3.org/2000/svg\" height=\"24px\" viewBox=\"0 -960 960 960\">\n",
              "    <path d=\"M120-120v-720h720v720H120Zm60-500h600v-160H180v160Zm220 220h160v-160H400v160Zm0 220h160v-160H400v160ZM180-400h160v-160H180v160Zm440 0h160v-160H620v160ZM180-180h160v-160H180v160Zm440 0h160v-160H620v160Z\"/>\n",
              "  </svg>\n",
              "    </button>\n",
              "\n",
              "  <style>\n",
              "    .colab-df-container {\n",
              "      display:flex;\n",
              "      gap: 12px;\n",
              "    }\n",
              "\n",
              "    .colab-df-convert {\n",
              "      background-color: #E8F0FE;\n",
              "      border: none;\n",
              "      border-radius: 50%;\n",
              "      cursor: pointer;\n",
              "      display: none;\n",
              "      fill: #1967D2;\n",
              "      height: 32px;\n",
              "      padding: 0 0 0 0;\n",
              "      width: 32px;\n",
              "    }\n",
              "\n",
              "    .colab-df-convert:hover {\n",
              "      background-color: #E2EBFA;\n",
              "      box-shadow: 0px 1px 2px rgba(60, 64, 67, 0.3), 0px 1px 3px 1px rgba(60, 64, 67, 0.15);\n",
              "      fill: #174EA6;\n",
              "    }\n",
              "\n",
              "    .colab-df-buttons div {\n",
              "      margin-bottom: 4px;\n",
              "    }\n",
              "\n",
              "    [theme=dark] .colab-df-convert {\n",
              "      background-color: #3B4455;\n",
              "      fill: #D2E3FC;\n",
              "    }\n",
              "\n",
              "    [theme=dark] .colab-df-convert:hover {\n",
              "      background-color: #434B5C;\n",
              "      box-shadow: 0px 1px 3px 1px rgba(0, 0, 0, 0.15);\n",
              "      filter: drop-shadow(0px 1px 2px rgba(0, 0, 0, 0.3));\n",
              "      fill: #FFFFFF;\n",
              "    }\n",
              "  </style>\n",
              "\n",
              "    <script>\n",
              "      const buttonEl =\n",
              "        document.querySelector('#df-612c896a-4070-4602-a860-41c223fb52a3 button.colab-df-convert');\n",
              "      buttonEl.style.display =\n",
              "        google.colab.kernel.accessAllowed ? 'block' : 'none';\n",
              "\n",
              "      async function convertToInteractive(key) {\n",
              "        const element = document.querySelector('#df-612c896a-4070-4602-a860-41c223fb52a3');\n",
              "        const dataTable =\n",
              "          await google.colab.kernel.invokeFunction('convertToInteractive',\n",
              "                                                    [key], {});\n",
              "        if (!dataTable) return;\n",
              "\n",
              "        const docLinkHtml = 'Like what you see? Visit the ' +\n",
              "          '<a target=\"_blank\" href=https://colab.research.google.com/notebooks/data_table.ipynb>data table notebook</a>'\n",
              "          + ' to learn more about interactive tables.';\n",
              "        element.innerHTML = '';\n",
              "        dataTable['output_type'] = 'display_data';\n",
              "        await google.colab.output.renderOutput(dataTable, element);\n",
              "        const docLink = document.createElement('div');\n",
              "        docLink.innerHTML = docLinkHtml;\n",
              "        element.appendChild(docLink);\n",
              "      }\n",
              "    </script>\n",
              "  </div>\n",
              "\n",
              "\n",
              "<div id=\"df-f6fa8eb1-8ba3-47a1-9e3f-0fb910eb2218\">\n",
              "  <button class=\"colab-df-quickchart\" onclick=\"quickchart('df-f6fa8eb1-8ba3-47a1-9e3f-0fb910eb2218')\"\n",
              "            title=\"Suggest charts.\"\n",
              "            style=\"display:none;\">\n",
              "\n",
              "<svg xmlns=\"http://www.w3.org/2000/svg\" height=\"24px\"viewBox=\"0 0 24 24\"\n",
              "     width=\"24px\">\n",
              "    <g>\n",
              "        <path d=\"M19 3H5c-1.1 0-2 .9-2 2v14c0 1.1.9 2 2 2h14c1.1 0 2-.9 2-2V5c0-1.1-.9-2-2-2zM9 17H7v-7h2v7zm4 0h-2V7h2v10zm4 0h-2v-4h2v4z\"/>\n",
              "    </g>\n",
              "</svg>\n",
              "  </button>\n",
              "\n",
              "<style>\n",
              "  .colab-df-quickchart {\n",
              "      --bg-color: #E8F0FE;\n",
              "      --fill-color: #1967D2;\n",
              "      --hover-bg-color: #E2EBFA;\n",
              "      --hover-fill-color: #174EA6;\n",
              "      --disabled-fill-color: #AAA;\n",
              "      --disabled-bg-color: #DDD;\n",
              "  }\n",
              "\n",
              "  [theme=dark] .colab-df-quickchart {\n",
              "      --bg-color: #3B4455;\n",
              "      --fill-color: #D2E3FC;\n",
              "      --hover-bg-color: #434B5C;\n",
              "      --hover-fill-color: #FFFFFF;\n",
              "      --disabled-bg-color: #3B4455;\n",
              "      --disabled-fill-color: #666;\n",
              "  }\n",
              "\n",
              "  .colab-df-quickchart {\n",
              "    background-color: var(--bg-color);\n",
              "    border: none;\n",
              "    border-radius: 50%;\n",
              "    cursor: pointer;\n",
              "    display: none;\n",
              "    fill: var(--fill-color);\n",
              "    height: 32px;\n",
              "    padding: 0;\n",
              "    width: 32px;\n",
              "  }\n",
              "\n",
              "  .colab-df-quickchart:hover {\n",
              "    background-color: var(--hover-bg-color);\n",
              "    box-shadow: 0 1px 2px rgba(60, 64, 67, 0.3), 0 1px 3px 1px rgba(60, 64, 67, 0.15);\n",
              "    fill: var(--button-hover-fill-color);\n",
              "  }\n",
              "\n",
              "  .colab-df-quickchart-complete:disabled,\n",
              "  .colab-df-quickchart-complete:disabled:hover {\n",
              "    background-color: var(--disabled-bg-color);\n",
              "    fill: var(--disabled-fill-color);\n",
              "    box-shadow: none;\n",
              "  }\n",
              "\n",
              "  .colab-df-spinner {\n",
              "    border: 2px solid var(--fill-color);\n",
              "    border-color: transparent;\n",
              "    border-bottom-color: var(--fill-color);\n",
              "    animation:\n",
              "      spin 1s steps(1) infinite;\n",
              "  }\n",
              "\n",
              "  @keyframes spin {\n",
              "    0% {\n",
              "      border-color: transparent;\n",
              "      border-bottom-color: var(--fill-color);\n",
              "      border-left-color: var(--fill-color);\n",
              "    }\n",
              "    20% {\n",
              "      border-color: transparent;\n",
              "      border-left-color: var(--fill-color);\n",
              "      border-top-color: var(--fill-color);\n",
              "    }\n",
              "    30% {\n",
              "      border-color: transparent;\n",
              "      border-left-color: var(--fill-color);\n",
              "      border-top-color: var(--fill-color);\n",
              "      border-right-color: var(--fill-color);\n",
              "    }\n",
              "    40% {\n",
              "      border-color: transparent;\n",
              "      border-right-color: var(--fill-color);\n",
              "      border-top-color: var(--fill-color);\n",
              "    }\n",
              "    60% {\n",
              "      border-color: transparent;\n",
              "      border-right-color: var(--fill-color);\n",
              "    }\n",
              "    80% {\n",
              "      border-color: transparent;\n",
              "      border-right-color: var(--fill-color);\n",
              "      border-bottom-color: var(--fill-color);\n",
              "    }\n",
              "    90% {\n",
              "      border-color: transparent;\n",
              "      border-bottom-color: var(--fill-color);\n",
              "    }\n",
              "  }\n",
              "</style>\n",
              "\n",
              "  <script>\n",
              "    async function quickchart(key) {\n",
              "      const quickchartButtonEl =\n",
              "        document.querySelector('#' + key + ' button');\n",
              "      quickchartButtonEl.disabled = true;  // To prevent multiple clicks.\n",
              "      quickchartButtonEl.classList.add('colab-df-spinner');\n",
              "      try {\n",
              "        const charts = await google.colab.kernel.invokeFunction(\n",
              "            'suggestCharts', [key], {});\n",
              "      } catch (error) {\n",
              "        console.error('Error during call to suggestCharts:', error);\n",
              "      }\n",
              "      quickchartButtonEl.classList.remove('colab-df-spinner');\n",
              "      quickchartButtonEl.classList.add('colab-df-quickchart-complete');\n",
              "    }\n",
              "    (() => {\n",
              "      let quickchartButtonEl =\n",
              "        document.querySelector('#df-f6fa8eb1-8ba3-47a1-9e3f-0fb910eb2218 button');\n",
              "      quickchartButtonEl.style.display =\n",
              "        google.colab.kernel.accessAllowed ? 'block' : 'none';\n",
              "    })();\n",
              "  </script>\n",
              "</div>\n",
              "    </div>\n",
              "  </div>\n"
            ]
          },
          "metadata": {},
          "execution_count": 63
        }
      ]
    },
    {
      "cell_type": "code",
      "source": [
        "#creating csv files\n",
        "report.to_csv(\"report_\"+s+\".csv\")\n",
        "final_results.to_csv(\"final_results_\"+s+\".csv\")"
      ],
      "metadata": {
        "id": "HeDaZRGYgd2s"
      },
      "execution_count": 64,
      "outputs": []
    },
    {
      "cell_type": "code",
      "source": [
        "#zipping together csv files\n",
        "import zipfile as zp\n",
        "\n",
        "with zp.ZipFile(\"table_\"+s+\".zip\",'w') as zipf:\n",
        "  zipf.write(\"report_\"+s+\".csv\")\n",
        "  zipf.write(\"final_results_\"+s+\".csv\")\n",
        "  zipf.write(\"dataset_report_\"+s+\".csv\")"
      ],
      "metadata": {
        "id": "xLGglhv4geSQ"
      },
      "execution_count": 65,
      "outputs": []
    },
    {
      "cell_type": "code",
      "source": [
        "A_true = nx.adjacency_matrix(G_true).toarray() #compute adjacency matrix for ground truth analysis\n",
        "#type(A_true) #check whther A_true is numpy matrix or not"
      ],
      "metadata": {
        "id": "-xFHdcqJUP2v"
      },
      "execution_count": null,
      "outputs": []
    },
    {
      "cell_type": "code",
      "source": [
        "#compute kl divergence between predicted and actual graphs\n",
        "#add make-equal function\n",
        "\n",
        "chunk_size = 500  # Adjust the chunk size based on the size of A\n",
        "A = nx.adjacency_matrix(G).toarray()\n",
        "A1 = nx.adjacency_matrix(G1).toarray()\n",
        "A2 = nx.adjacency_matrix(G2).toarray()\n",
        "A3 = nx.adjacency_matrix(G3).toarray()\n",
        "\n",
        "num_chunks = len(A) // chunk_size\n",
        "remainder = len(A) % chunk_size\n",
        "\n",
        "kly, kly_1, kly_2, kly_3 = 0, 0, 0, 0\n",
        "\n",
        "# Calculate KL divergence for each chunk for each case\n",
        "for i in range(num_chunks):\n",
        "    start = i * chunk_size\n",
        "    end = (i + 1) * chunk_size\n",
        "    kly += make_compatible_kl(A[start:end], A_true[start:end])\n",
        "    kly_1 += make_compatible_kl(A1[start:end], A_true[start:end]).sum()\n",
        "    kly_2 += make_compatible_kl(A2[start:end], A_true[start:end]).sum()\n",
        "    kly_3 += make_compatible_kl(A3[start:end], A_true[start:end]).sum()\n",
        "\n",
        "# Calculate KL divergence for the remaining elements\n",
        "if remainder > 0:\n",
        "    kly += make_compatible_kl(A[-remainder:], A_true[-remainder:]).sum()\n",
        "    kly_1 += make_compatible_kl(A1[-remainder:], A_true[-remainder:]).sum()\n",
        "    kly_2 += make_compatible_kl(A2[-remainder:], A_true[-remainder:]).sum()\n",
        "    kly_3 += make_compatible_kl(A3[-remainder:], A_true[-remainder:]).sum()\n",
        "\n",
        "print(\"***KL Divergence Similarity Summary***\")\n",
        "print(\"1) Ground truth vs estimated (Euclidean):- \", kly)\n",
        "print(\"2) Ground truth vs estimated (Cosine):- \", kly_1)\n",
        "print(\"3) Ground truth vs estimated (Manhattan):- \", kly_2)\n",
        "print(\"4) Ground truth vs estimated (Hamming):- \", kly_3)\n",
        "\n",
        "l_kl = [kly, kly_1, kly_2, kly_3]"
      ],
      "metadata": {
        "id": "RUryr7XdUP6Z"
      },
      "execution_count": null,
      "outputs": []
    },
    {
      "cell_type": "code",
      "source": [
        "m3 = min(l_kl)  #closer graph metric as per KL divergence\n",
        "l3 = find_index(m3, None, l_kl, 0, 4)\n",
        "convert(l3[0])"
      ],
      "metadata": {
        "id": "MO6JuZYNZi1t",
        "colab": {
          "base_uri": "https://localhost:8080/"
        },
        "outputId": "576d3aab-8347-44cf-ce03-f3effb1f1f3a"
      },
      "execution_count": null,
      "outputs": [
        {
          "output_type": "stream",
          "name": "stdout",
          "text": [
            "Hamming\n"
          ]
        }
      ]
    },
    {
      "cell_type": "code",
      "source": [
        "#implement Wasserstein, Dice and mahalanobis distances\n",
        "#TODO: YOUR CODE HERE"
      ],
      "metadata": {
        "id": "wzDa4KYsZi65"
      },
      "execution_count": null,
      "outputs": []
    },
    {
      "cell_type": "code",
      "source": [],
      "metadata": {
        "id": "pX8jYYCQZi9A"
      },
      "execution_count": null,
      "outputs": []
    },
    {
      "cell_type": "code",
      "source": [],
      "metadata": {
        "id": "GZQZ7nccZjhg"
      },
      "execution_count": null,
      "outputs": []
    },
    {
      "cell_type": "code",
      "source": [],
      "metadata": {
        "id": "izl79L5FZjma"
      },
      "execution_count": null,
      "outputs": []
    },
    {
      "cell_type": "code",
      "source": [],
      "metadata": {
        "id": "Ldy0aji18Qig"
      },
      "execution_count": null,
      "outputs": []
    },
    {
      "cell_type": "code",
      "source": [],
      "metadata": {
        "id": "q4jiB0XIuM-R"
      },
      "execution_count": null,
      "outputs": []
    },
    {
      "cell_type": "code",
      "source": [
        "#**********Rough work below***************\n",
        "'''\n",
        "kbfwjbgwkbikfbukebgkelwfn\n",
        "ewbjeikqbibjbigjgkjwbggf\n",
        "ffgfjgkbwkgbjgkbgjgbkjkgbjgqkgj\n",
        "gjbeqikbjgkqbgjkgbqjkbjgqkqhufihquighikb\n",
        "'''"
      ],
      "metadata": {
        "id": "vTCCcvuSyikq"
      },
      "execution_count": null,
      "outputs": []
    },
    {
      "cell_type": "code",
      "source": [
        "# path1 = '/content/drive/MyDrive/Colab Notebooks/Summer training/network0_weighted.csv'\n",
        "# path2 = '/content/drive/MyDrive/Colab Notebooks/Summer training/power-494-bus.mtx'\n",
        "# path3 = '/content/drive/MyDrive/Colab Notebooks/Summer training/inf-euroroad.edges'\n",
        "# path4 = '/content/drive/MyDrive/Colab Notebooks/Summer training/email-dnc-corecipient.edges'\n",
        "# path5 = '/content/drive/MyDrive/Colab Notebooks/Summer training/econ-mahindas.mtx'"
      ],
      "metadata": {
        "id": "IVOcbmy38qHu"
      },
      "execution_count": null,
      "outputs": []
    },
    {
      "cell_type": "code",
      "source": [
        "#DONE: Add Wasserstein distribution distance metric here refer:- https://docs.scipy.org/doc/scipy/reference/generated/scipy.stats.wasserstein_distance.html\n",
        "#Your code here\n",
        "ws1 = scipy.stats.wasserstein_distance(sum(X5,1), sum(X3,1))\n",
        "ws2 = scipy.stats.wasserstein_distance(sum(X3,1), sum(X5,1))\n",
        "ws1 == ws2   #shows Wasserstein distance metric is symmetric in nature"
      ],
      "metadata": {
        "colab": {
          "base_uri": "https://localhost:8080/"
        },
        "id": "YZPtbwVnLZtI",
        "outputId": "5f20129c-fbe8-4ce2-d5a9-96e86c272d8c"
      },
      "execution_count": null,
      "outputs": [
        {
          "output_type": "execute_result",
          "data": {
            "text/plain": [
              "True"
            ]
          },
          "metadata": {},
          "execution_count": 215
        }
      ]
    },
    {
      "cell_type": "code",
      "source": [
        "ws1 #Wasserstein distance between graph5 and graph3"
      ],
      "metadata": {
        "colab": {
          "base_uri": "https://localhost:8080/"
        },
        "id": "I-qt9CmyWenQ",
        "outputId": "fa08af29-2af8-45aa-8a63-b47dc3a79b16"
      },
      "execution_count": null,
      "outputs": [
        {
          "output_type": "execute_result",
          "data": {
            "text/plain": [
              "12.801347491995376"
            ]
          },
          "metadata": {},
          "execution_count": 216
        }
      ]
    },
    {
      "cell_type": "code",
      "source": [
        "#DONE: Try adding Dice similarity metric also refer:- https://docs.scipy.org/doc/scipy/reference/generated/scipy.spatial.distance.dice.html\n",
        "#Your code here\n",
        "\n",
        "def make_equal_compute_dice(arr1, arr2):    #dice loss requires 1D arrays of equal size. To make arrays of same size, I created a function\n",
        "  if arr1.shape[0]>arr2.shape[0]:\n",
        "    arr3 = np.zeros(arr1.shape[0])\n",
        "    for i in range(arr2.shape[0]):\n",
        "      arr3[i] = arr2[i]\n",
        "    dc = scipy.spatial.distance.dice(arr1, arr3)\n",
        "    return dc\n",
        "  elif arr1.shape[0]<arr2.shape[0]:\n",
        "    arr3 = np.zeros(arr2.shape[0])\n",
        "    for i in range(arr1.shape[0]):\n",
        "      arr3[i] = arr1[i]\n",
        "    dc = scipy.spatial.distance.dice(arr3, arr2)\n",
        "    return dc\n",
        "  else:\n",
        "    dc = scipy.spatial.distance.dice(arr1, arr2)\n",
        "    return dc\n",
        "\n",
        "dc1 = make_equal_compute_dice(sum(X1,1),sum(X3,1))\n",
        "dc2 = make_equal_compute_dice(sum(X3,1),sum(X1,1))\n",
        "print(dc1 == dc2)   #shows whther dice similarity is symmetric or not\n",
        "print(dc1)  #dice similarity between graphs 1 and 3"
      ],
      "metadata": {
        "colab": {
          "base_uri": "https://localhost:8080/"
        },
        "id": "MN8x0uqjLZwA",
        "outputId": "ed0b47d0-0c35-4c62-ba1c-aaa01f590e61"
      },
      "execution_count": null,
      "outputs": [
        {
          "output_type": "stream",
          "name": "stdout",
          "text": [
            "True\n",
            "0.8015753115124495\n"
          ]
        }
      ]
    },
    {
      "cell_type": "code",
      "source": [
        "#DONE: Try adding Mahalanobis distance metric also\n",
        "#Your code here\n",
        "\n",
        "def make_equal_compute_mahalanobis_dist(arr1, arr2):   #requires a covariance matrix of order compatible with the input arrays being compared\n",
        "  if arr1.shape[0]>arr2.shape[0]:\n",
        "    arr3 = np.zeros(arr1.shape[0])\n",
        "    for i in range(arr2.shape[0]):\n",
        "      arr3[i] = arr2[i]\n",
        "    cov = np.cov(arr1, arr3)\n",
        "    cvi = np.linalg.inv(cov)\n",
        "    c = np.zeros((arr1.shape[0],arr1.shape[0]))\n",
        "    for i in range(cvi.shape[0]):\n",
        "      for j in range(cvi.shape[1]):\n",
        "        c[i][j] = cvi[i][j]\n",
        "    mnl = scipy.spatial.distance.mahalanobis(arr1, arr3, c)\n",
        "    return mnl\n",
        "  elif arr1.shape[0]<arr2.shape[0]:\n",
        "    arr3 = np.zeros(arr2.shape[0])\n",
        "    for i in range(arr1.shape[0]):\n",
        "      arr3[i] = arr1[i]\n",
        "    cov = np.cov(arr3, arr2)\n",
        "    cvi = np.linalg.inv(cov)\n",
        "    c = np.zeros((arr2.shape[0],arr2.shape[0]))\n",
        "    for i in range(cvi.shape[0]):\n",
        "      for j in range(cvi.shape[1]):\n",
        "        c[i][j] = cvi[i][j]\n",
        "    mnl = scipy.spatial.distance.mahalanobis(arr3, arr2, c)\n",
        "    return mnl\n",
        "  else:\n",
        "    cov = np.cov(arr1, arr2)\n",
        "    cvi = np.linalg.inv(cov)\n",
        "    c = np.zeros((arr2.shape[0],arr2.shape[0]))\n",
        "    for i in range(cvi.shape[0]):\n",
        "      for j in range(cvi.shape[1]):\n",
        "        c[i][j] = cvi[i][j]\n",
        "    mnl = scipy.spatial.distance.mahalanobis(arr1, arr2, c)\n",
        "    return mnl\n",
        "\n",
        "mnla = make_equal_compute_mahalanobis_dist(sum(X2,1), sum(X4,1))\n",
        "mnlb = make_equal_compute_mahalanobis_dist(sum(X4,1), sum(X2,1))\n",
        "\n",
        "mnla == mnlb #shows the symmetric nature of mahalanobis distance\n",
        "#*******Calculation may not be done properly as I was unsure on how to remove errors*******"
      ],
      "metadata": {
        "id": "5rKuaxWgQofN",
        "colab": {
          "base_uri": "https://localhost:8080/"
        },
        "outputId": "14cdbd33-da2c-498a-f701-85c9e7e99ea5"
      },
      "execution_count": null,
      "outputs": [
        {
          "output_type": "execute_result",
          "data": {
            "text/plain": [
              "False"
            ]
          },
          "metadata": {},
          "execution_count": 252
        }
      ]
    },
    {
      "cell_type": "code",
      "source": [
        "mnlb"
      ],
      "metadata": {
        "id": "TooIS9iQQojv",
        "colab": {
          "base_uri": "https://localhost:8080/"
        },
        "outputId": "4c5115a3-9f28-4597-f6d7-a3042c9c2800"
      },
      "execution_count": null,
      "outputs": [
        {
          "output_type": "execute_result",
          "data": {
            "text/plain": [
              "2.9451250072210517"
            ]
          },
          "metadata": {},
          "execution_count": 253
        }
      ]
    },
    {
      "cell_type": "code",
      "source": [
        "mnla"
      ],
      "metadata": {
        "id": "4mNZEIRXQom6",
        "colab": {
          "base_uri": "https://localhost:8080/"
        },
        "outputId": "943cd332-ed37-4dcf-fccf-19b3a73d316d"
      },
      "execution_count": null,
      "outputs": [
        {
          "output_type": "execute_result",
          "data": {
            "text/plain": [
              "3.9773626913489046"
            ]
          },
          "metadata": {},
          "execution_count": 254
        }
      ]
    },
    {
      "cell_type": "code",
      "source": [],
      "metadata": {
        "id": "F1sKGQKDs-K_"
      },
      "execution_count": null,
      "outputs": []
    }
  ]
}